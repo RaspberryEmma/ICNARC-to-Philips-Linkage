{
 "cells": [
  {
   "cell_type": "markdown",
   "metadata": {},
   "source": [
    "### Merging data from WardWatcher (ICNARC) and Philips (ICCA).\n",
    "\n",
    "Here use the following files:\n",
    "\n",
    "* 'encounter_summary (1).rpt'  - a tab separated file with output from a simple SQL run on ICCA to extract basic information about patient encounters (ITU stays).\n",
    "\n",
    "* 'ICNARC 2015-2018 encounterIds and Readmissions.TXT' - a file containing ICNARC patient IDs and the corresponding 'CIS Patient ID', which link to encounterID in Philips.\n",
    "\n",
    "* 'Philips encounterId Issue List (New).xlsx' - a file documenting known issues with either encounterIds in Philips or CIS Patient IDs in WW. We clean up the IDs using this file before joining the two datasets.\n",
    "\n",
    "* 'ICNARC_Dataset_2015-2018__clean_.xml' - xml file containing output of ICNARC dataset\n",
    "\n",
    "* 'ICNARC CMP Dataset Properties.xlsx' - description of variables in the ICNARC dataset"
   ]
  },
  {
   "cell_type": "code",
   "execution_count": 1,
   "metadata": {
    "collapsed": true
   },
   "outputs": [],
   "source": [
    "VERBOSE = False ## For reasons of data protection we supress printing of results and data summaries.\n",
    "import numpy as np"
   ]
  },
  {
   "cell_type": "markdown",
   "metadata": {},
   "source": [
    "#### Functions for cleaning up the encounter IDs and parsing the ICNARC xml file are imported: "
   ]
  },
  {
   "cell_type": "code",
   "execution_count": 2,
   "metadata": {
    "collapsed": true
   },
   "outputs": [
    {
     "name": "stderr",
     "output_type": "stream",
     "text": [
      "/home/rusty/anaconda3/lib/python2.7/site-packages/pandas/_libs/__init__.py:4: RuntimeWarning: numpy.dtype size changed, may indicate binary incompatibility. Expected 96, got 88\n",
      "  from .tslib import iNaT, NaT, Timestamp, Timedelta, OutOfBoundsDatetime\n",
      "/home/rusty/anaconda3/lib/python2.7/site-packages/pandas/__init__.py:26: RuntimeWarning: numpy.dtype size changed, may indicate binary incompatibility. Expected 96, got 88\n",
      "  from pandas._libs import (hashtable as _hashtable,\n",
      "/home/rusty/anaconda3/lib/python2.7/site-packages/pandas/core/dtypes/common.py:6: RuntimeWarning: numpy.dtype size changed, may indicate binary incompatibility. Expected 96, got 88\n",
      "  from pandas._libs import algos, lib\n",
      "/home/rusty/anaconda3/lib/python2.7/site-packages/pandas/core/util/hashing.py:7: RuntimeWarning: numpy.dtype size changed, may indicate binary incompatibility. Expected 96, got 88\n",
      "  from pandas._libs import hashing, tslib\n",
      "/home/rusty/anaconda3/lib/python2.7/site-packages/pandas/core/indexes/base.py:7: RuntimeWarning: numpy.dtype size changed, may indicate binary incompatibility. Expected 96, got 88\n",
      "  from pandas._libs import (lib, index as libindex, tslib as libts,\n",
      "/home/rusty/anaconda3/lib/python2.7/site-packages/pandas/tseries/offsets.py:21: RuntimeWarning: numpy.dtype size changed, may indicate binary incompatibility. Expected 96, got 88\n",
      "  import pandas._libs.tslibs.offsets as liboffsets\n",
      "/home/rusty/anaconda3/lib/python2.7/site-packages/pandas/core/ops.py:16: RuntimeWarning: numpy.dtype size changed, may indicate binary incompatibility. Expected 96, got 88\n",
      "  from pandas._libs import algos as libalgos, ops as libops\n",
      "/home/rusty/anaconda3/lib/python2.7/site-packages/pandas/core/indexes/interval.py:32: RuntimeWarning: numpy.dtype size changed, may indicate binary incompatibility. Expected 96, got 88\n",
      "  from pandas._libs.interval import (\n",
      "/home/rusty/anaconda3/lib/python2.7/site-packages/pandas/core/internals.py:14: RuntimeWarning: numpy.dtype size changed, may indicate binary incompatibility. Expected 96, got 88\n",
      "  from pandas._libs import internals as libinternals\n",
      "/home/rusty/anaconda3/lib/python2.7/site-packages/pandas/core/sparse/array.py:33: RuntimeWarning: numpy.dtype size changed, may indicate binary incompatibility. Expected 96, got 88\n",
      "  import pandas._libs.sparse as splib\n",
      "/home/rusty/anaconda3/lib/python2.7/site-packages/pandas/core/window.py:36: RuntimeWarning: numpy.dtype size changed, may indicate binary incompatibility. Expected 96, got 88\n",
      "  import pandas._libs.window as _window\n",
      "/home/rusty/anaconda3/lib/python2.7/site-packages/pandas/core/groupby/groupby.py:68: RuntimeWarning: numpy.dtype size changed, may indicate binary incompatibility. Expected 96, got 88\n",
      "  from pandas._libs import (lib, reduction,\n",
      "/home/rusty/anaconda3/lib/python2.7/site-packages/pandas/core/reshape/reshape.py:30: RuntimeWarning: numpy.dtype size changed, may indicate binary incompatibility. Expected 96, got 88\n",
      "  from pandas._libs import algos as _algos, reshape as _reshape\n",
      "/home/rusty/anaconda3/lib/python2.7/site-packages/pandas/io/parsers.py:45: RuntimeWarning: numpy.dtype size changed, may indicate binary incompatibility. Expected 96, got 88\n",
      "  import pandas._libs.parsers as parsers\n",
      "/home/rusty/anaconda3/lib/python2.7/site-packages/pandas/io/pytables.py:50: RuntimeWarning: numpy.dtype size changed, may indicate binary incompatibility. Expected 96, got 88\n",
      "  from pandas._libs import algos, lib, writers as libwriters\n"
     ]
    }
   ],
   "source": [
    "from clean_encounterids import *\n",
    "from parse_ICNARC_xml import *"
   ]
  },
  {
   "cell_type": "code",
   "execution_count": 3,
   "metadata": {
    "collapsed": true
   },
   "outputs": [],
   "source": [
    "icnarc_numbers = clean_icnarc_cis_ids('../ICNARC 2015-2018 encounterIds and Readmissions.TXT', \n",
    "                                      '../Philips encounterId Issue List (New).xlsx',\n",
    "                                    verbose=VERBOSE)"
   ]
  },
  {
   "cell_type": "code",
   "execution_count": 4,
   "metadata": {
    "collapsed": true
   },
   "outputs": [],
   "source": [
    "philips_data = clean_philips_encounterids('../encounter_summary (1).rpt', \n",
    "                                  '../Philips encounterId Issue List (New).xlsx',\n",
    "                                  verbose=VERBOSE)"
   ]
  },
  {
   "cell_type": "code",
   "execution_count": 5,
   "metadata": {
    "collapsed": true
   },
   "outputs": [],
   "source": [
    "merged_data = join_icnarc_to_philips(philips_data, icnarc_numbers, verbose=VERBOSE)"
   ]
  },
  {
   "cell_type": "code",
   "execution_count": 6,
   "metadata": {
    "collapsed": true
   },
   "outputs": [],
   "source": [
    "merged_data = combine_non_unique_encounters(merged_data, combine='simple', verbose=VERBOSE)"
   ]
  },
  {
   "cell_type": "markdown",
   "metadata": {},
   "source": [
    "#### 'merged_data' now has a one-to-one mapping from ICNARC numbers to Philips encounterIds (CIS Patient ID). It also contains some summary data on each ITU episode that was extracted from Philips:"
   ]
  },
  {
   "cell_type": "code",
   "execution_count": 7,
   "metadata": {},
   "outputs": [
    {
     "name": "stdout",
     "output_type": "stream",
     "text": [
      "Index([u'CIS Patient ID', u'Readmission during this hospital stay',\n",
      "       u'ICNARC number', u'tNumber', u'encounterId_original', u'inTime',\n",
      "       u'outTime', u'lengthOfStay (mins)', u'gender', u'Unit ID',\n",
      "       u'CIS Patient ID Original', u'ptCensusId', u'CIS Episode ID', u'age'],\n",
      "      dtype='object')\n"
     ]
    }
   ],
   "source": [
    "print(merged_data.columns)"
   ]
  },
  {
   "cell_type": "markdown",
   "metadata": {},
   "source": [
    "#### We now parse the xml file that contains the ICANRC CMP dataset variables:"
   ]
  },
  {
   "cell_type": "code",
   "execution_count": 10,
   "metadata": {
    "collapsed": true
   },
   "outputs": [],
   "source": [
    "icnarc_data = parse_icnarc_xml(\"../ICNARC_Dataset_2015-2018__clean_.xml\",\n",
    "                               \"../ICNARC CMP Dataset Properties.xlsx\",\n",
    "                              verbose=VERBOSE)"
   ]
  },
  {
   "cell_type": "code",
   "execution_count": 18,
   "metadata": {},
   "outputs": [],
   "source": [
    "icnarc_data = icnarc_data.merge(merged_data, on=['ICNARC number', 'Unit ID'])"
   ]
  },
  {
   "cell_type": "code",
   "execution_count": 71,
   "metadata": {},
   "outputs": [
    {
     "name": "stdout",
     "output_type": "stream",
     "text": [
      "The XML file has 4831 ITU stays,\n",
      "But the merged WW and Philips dataframe has 4834 stays.\n"
     ]
    }
   ],
   "source": [
    "print(\"The XML file has %d ITU stays,\" %len(icnarc_data))\n",
    "print(\"But the merged WW and Philips dataframe has %d stays.\" %len(merged_data))"
   ]
  },
  {
   "cell_type": "markdown",
   "metadata": {},
   "source": [
    "#### There are 3 stays missing from the XML file, these are:"
   ]
  },
  {
   "cell_type": "code",
   "execution_count": null,
   "metadata": {},
   "outputs": [],
   "source": [
    "merged_data[~merged_data['ICNARC number'].isin(icnarc_data['ICNARC number'])] ## Output deleted for data protection."
   ]
  },
  {
   "cell_type": "markdown",
   "metadata": {},
   "source": [
    "#### We now evaluate some basic statistics to characterise the patient cohort:"
   ]
  },
  {
   "cell_type": "code",
   "execution_count": 8,
   "metadata": {
    "collapsed": true
   },
   "outputs": [],
   "source": [
    "convert_minutes_to_days = lambda x: x/float(24*60)"
   ]
  },
  {
   "cell_type": "markdown",
   "metadata": {},
   "source": [
    "#### First we use variables from the initial WW/Philips join:"
   ]
  },
  {
   "cell_type": "code",
   "execution_count": 126,
   "metadata": {},
   "outputs": [],
   "source": [
    "def print_ww_philips_summary(df):\n",
    "\n",
    "    median_age = np.median(df['age'].values)\n",
    "    age_q25, age_q75 = np.percentile(df['age'].values, [25,75])\n",
    "    print \"Age, median years (IQR): %.1f (%.1f, %.1f)\" %(median_age,age_q25,age_q75) \n",
    "\n",
    "    median_los = convert_minutes_to_days(np.median(df['lengthOfStay (mins)'].values))\n",
    "    los_q25, los_q75 = map(convert_minutes_to_days, np.percentile(df['lengthOfStay (mins)'].values, [25,75]))\n",
    "    print \"LOS, median days (IQR): %.1f (%.1f, %.1f)\" %(median_los,los_q25,los_q75)\n",
    "    print \"\"\n",
    "    \n",
    "    n_male = sum(df['gender']=='Male')\n",
    "    n_female = sum(df['gender']=='Female')\n",
    "    no_gender = sum(df['gender'].isna())    \n",
    "    print \"Gender, %% female: %.1f\" %(100 * n_female / float(n_male + n_female))\n",
    "    print \"(%.1f %% of patients have no gender recorded in Philips.)\" %(100*no_gender/float(len(icnarc_data)))\n",
    "    print \" \"\n",
    "    \n",
    "    readmit = sum(merged_data['Readmission during this hospital stay']=='Yes')\n",
    "    no_readmit = sum(merged_data['Readmission during this hospital stay'].isna())\n",
    "    print \"Readmission to ICU, #(%%) : %d (%.1f)\" %(readmit, 100*readmit/float(len(merged_data)))\n",
    "    print \"(%.1f %% of patients have no recording for this variable in WW.)\" %(100*no_readmit/float(len(icnarc_data)))\n"
   ]
  },
  {
   "cell_type": "code",
   "execution_count": 127,
   "metadata": {},
   "outputs": [
    {
     "name": "stdout",
     "output_type": "stream",
     "text": [
      "Age, median years (IQR): 64.0 (50.0, 73.0)\n",
      "LOS, median days (IQR): 3.0 (1.7, 5.6)\n",
      "\n",
      "Gender, % female: 39.7\n",
      "(0.1 % of patients have no gender recorded in Philips.)\n",
      " \n",
      "Readmission to ICU, #(%) : 147 (3.0)\n",
      "(0.0 % of patients have no recording for this variable in WW.)\n"
     ]
    }
   ],
   "source": [
    "print_ww_philips_summary(icnarc_data)"
   ]
  },
  {
   "cell_type": "markdown",
   "metadata": {},
   "source": [
    "#### To validate these we now look at the same variables in the XML file of the ICNARC dataset:\n",
    "\n",
    "### TODO: convert the dates and times to datetime objects and calculate Age and LOS..."
   ]
  },
  {
   "cell_type": "markdown",
   "metadata": {},
   "source": [
    "#### How much missing data in the ICNARC xml?\n",
    "\n",
    "### Note: is this right or has the parsing missed values? e.g. 1231 with no outcome on leaving hospital?"
   ]
  },
  {
   "cell_type": "code",
   "execution_count": 130,
   "metadata": {},
   "outputs": [
    {
     "name": "stdout",
     "output_type": "stream",
     "text": [
      "0\n",
      "0\n",
      "1231\n",
      "4505\n",
      "1103\n",
      "0\n",
      "4733\n",
      "703\n",
      "0\n"
     ]
    }
   ],
   "source": [
    "print sum(icnarc_data['Weight in kg'].isna())\n",
    "print sum(icnarc_data['Height in cm'].isna())\n",
    "print sum(icnarc_data['Status at discharge from your hospital'].isna())\n",
    "print sum(icnarc_data['Status at ultimate discharge from hospital'].isna())\n",
    "print sum(icnarc_data['Time when fully ready to discharge'].isna())\n",
    "print sum(icnarc_data['Status at discharge from your unit'].isna())\n",
    "print sum(icnarc_data['Status at ultimate discharge from ICU/HDU'].isna())\n",
    "print sum(icnarc_data['Reason for discharge from your unit'].isna())\n",
    "print sum(icnarc_data['Sex'].isna())"
   ]
  },
  {
   "cell_type": "markdown",
   "metadata": {},
   "source": [
    "#### We calculate BMI:"
   ]
  },
  {
   "cell_type": "code",
   "execution_count": 70,
   "metadata": {},
   "outputs": [],
   "source": [
    "icnarc_data['bmi'] = icnarc_data['Weight in kg'].astype(float)/((icnarc_data['Height in cm'].astype(float)/100.0)**2)"
   ]
  },
  {
   "cell_type": "code",
   "execution_count": 128,
   "metadata": {},
   "outputs": [
    {
     "name": "stdout",
     "output_type": "stream",
     "text": [
      "0.39639826123\n",
      "26.564344746162927\n"
     ]
    }
   ],
   "source": [
    "print sum(icnarc_data['Sex']=='F')/float(len(icnarc_data))\n",
    "print np.median(icnarc_data['bmi'].values)"
   ]
  },
  {
   "cell_type": "code",
   "execution_count": 50,
   "metadata": {},
   "outputs": [],
   "source": [
    "no_outcome = icnarc_data[icnarc_data['Status at discharge from your hospital'].isna()]"
   ]
  },
  {
   "cell_type": "markdown",
   "metadata": {},
   "source": [
    "#### Make some plots...\n",
    "\n",
    "### Need to get dictionary for ICNARC codes"
   ]
  },
  {
   "cell_type": "code",
   "execution_count": 131,
   "metadata": {
    "collapsed": true
   },
   "outputs": [
    {
     "data": {
      "text/plain": [
       "0        2.7.1.13.3\n",
       "1       2.11.1.27.1\n",
       "2        1.3.5.30.1\n",
       "3        2.3.9.28.1\n",
       "4        1.1.5.27.2\n",
       "5        2.6.8.34.5\n",
       "6        1.3.3.39.1\n",
       "7        2.7.1.13.1\n",
       "8       1.3.10.27.6\n",
       "9        1.3.9.39.1\n",
       "10       2.1.2.30.1\n",
       "11       2.1.2.27.1\n",
       "12        2.1.4.6.1\n",
       "13       2.2.1.30.1\n",
       "14       1.7.3.39.1\n",
       "15       1.3.6.39.2\n",
       "16      2.2.12.35.4\n",
       "17       2.4.2.33.1\n",
       "18       1.3.9.39.1\n",
       "19      2.2.12.35.2\n",
       "20        2.6.8.1.2\n",
       "21       1.3.2.15.1\n",
       "22       1.3.7.27.1\n",
       "23       2.9.2.25.1\n",
       "24       2.1.4.27.5\n",
       "25       2.1.4.27.1\n",
       "26       1.1.4.39.1\n",
       "27        2.1.4.6.1\n",
       "28       2.7.1.13.4\n",
       "29       1.3.9.39.1\n",
       "           ...     \n",
       "4801      2.4.2.7.3\n",
       "4802      2.4.2.7.3\n",
       "4803     1.3.5.41.4\n",
       "4804     2.6.8.1.10\n",
       "4805     2.1.2.30.1\n",
       "4806     2.6.8.34.5\n",
       "4807      2.4.2.7.3\n",
       "4808     1.3.1.39.3\n",
       "4809    1.10.2.56.2\n",
       "4810     1.3.6.57.1\n",
       "4811     2.7.1.13.1\n",
       "4812      2.4.2.7.3\n",
       "4813     2.1.10.7.3\n",
       "4814     2.6.8.34.9\n",
       "4815     1.7.3.39.1\n",
       "4816     1.1.9.56.1\n",
       "4817     1.4.1.39.5\n",
       "4818     2.7.1.27.1\n",
       "4819     1.1.5.39.2\n",
       "4820     1.1.4.39.1\n",
       "4821     2.2.5.40.3\n",
       "4822     1.3.5.30.3\n",
       "4823     2.9.2.39.2\n",
       "4824     1.3.6.30.1\n",
       "4825     2.1.4.27.9\n",
       "4826      2.4.2.7.3\n",
       "4827     1.3.1.39.3\n",
       "4828     1.3.5.30.5\n",
       "4829     2.1.4.27.5\n",
       "4830      2.4.2.7.3\n",
       "Name: Primary reason for admission to your unit, Length: 4831, dtype: object"
      ]
     },
     "execution_count": 131,
     "metadata": {},
     "output_type": "execute_result"
    }
   ],
   "source": [
    "icnarc_data['Primary reason for admission to your unit']"
   ]
  },
  {
   "cell_type": "code",
   "execution_count": null,
   "metadata": {
    "collapsed": true
   },
   "outputs": [],
   "source": []
  }
 ],
 "metadata": {
  "kernelspec": {
   "display_name": "Python 2",
   "language": "python",
   "name": "python2"
  },
  "language_info": {
   "codemirror_mode": {
    "name": "ipython",
    "version": 2
   },
   "file_extension": ".py",
   "mimetype": "text/x-python",
   "name": "python",
   "nbconvert_exporter": "python",
   "pygments_lexer": "ipython2",
   "version": "2.7.13"
  }
 },
 "nbformat": 4,
 "nbformat_minor": 2
}
