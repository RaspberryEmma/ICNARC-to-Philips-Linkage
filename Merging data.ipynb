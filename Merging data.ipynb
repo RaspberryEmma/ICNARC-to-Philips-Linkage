{
 "cells": [
  {
   "cell_type": "markdown",
   "metadata": {},
   "source": [
    "### Merging data from WardWatcher (ICNARC) and Philips (ICCA).\n",
    "\n",
    "Here use the following files:\n",
    "\n",
    "* 'encounter_summary (1).rpt'  - a tab separated file with output from a simple SQL run on ICCA to extract basic information about patient encounters (ITU stays).\n",
    "\n",
    "* 'ICNARC 2015-2018 encounterIds and Readmissions.TXT' - a file containing ICNARC patient IDs and the corresponding 'CIS Patient ID', which link to encounterID in Philips.\n",
    "\n",
    "* 'Philips encounterId Issue List (New).xlsx' - a file documenting known issues with either encounterIds in Philips or CIS Patient IDs in WW. We clean up the IDs using this file before joining the two datasets.\n",
    "\n",
    "* 'ICNARC_Dataset_2015-2018__clean_.xml' - xml file containing output of ICNARC dataset\n",
    "\n",
    "* 'ICNARC CMP Dataset Properties.xlsx' - description of variables in the ICNARC dataset"
   ]
  },
  {
   "cell_type": "code",
   "execution_count": 1,
   "metadata": {
    "collapsed": true
   },
   "outputs": [],
   "source": [
    "VERBOSE = False ## For reasons of data protection we supress printing of results and data summaries."
   ]
  },
  {
   "cell_type": "code",
   "execution_count": null,
   "metadata": {},
   "outputs": [],
   "source": [
    "from clean_encounterids import *"
   ]
  },
  {
   "cell_type": "code",
   "execution_count": 3,
   "metadata": {},
   "outputs": [],
   "source": [
    "icnarc_numbers = clean_icnarc_cis_ids('../ICNARC 2015-2018 encounterIds and Readmissions.TXT', \n",
    "                                      '../Philips encounterId Issue List (New).xlsx',\n",
    "                                    verbose=VERBOSE)"
   ]
  },
  {
   "cell_type": "code",
   "execution_count": 4,
   "metadata": {
    "collapsed": true
   },
   "outputs": [],
   "source": [
    "philips_data = clean_philips_encounterids('../encounter_summary (1).rpt', \n",
    "                                  '../Philips encounterId Issue List (New).xlsx',\n",
    "                                  verbose=VERBOSE)"
   ]
  },
  {
   "cell_type": "code",
   "execution_count": 5,
   "metadata": {
    "collapsed": true
   },
   "outputs": [],
   "source": [
    "merged_data = join_icnarc_to_philips(philips_data, icnarc_numbers, verbose=VERBOSE)"
   ]
  },
  {
   "cell_type": "code",
   "execution_count": 6,
   "metadata": {},
   "outputs": [],
   "source": [
    "merged_data = combine_non_unique_encounters(merged_data, combine='simple', verbose=VERBOSE)"
   ]
  },
  {
   "cell_type": "code",
   "execution_count": 9,
   "metadata": {},
   "outputs": [
    {
     "data": {
      "text/plain": [
       "60.50744724865536"
      ]
     },
     "execution_count": 9,
     "metadata": {},
     "output_type": "execute_result"
    }
   ],
   "source": [
    "merged_data['age'].values.mean()\n",
    "#merged_data['age_min'].values.mean() ## if using concat"
   ]
  },
  {
   "cell_type": "code",
   "execution_count": 11,
   "metadata": {},
   "outputs": [
    {
     "name": "stdout",
     "output_type": "stream",
     "text": [
      "2911\n",
      "1915\n",
      "4834\n"
     ]
    }
   ],
   "source": [
    "print sum(merged_data['gender']=='Male')\n",
    "print sum(merged_data['gender']=='Female')\n",
    "print len(merged_data['gender'])\n",
    "\n",
    "#print sum(merged_data['gender_first']=='Male')\n",
    "#print sum(merged_data['gender_first']=='Female')\n",
    "#print len(merged_data['gender_first'])"
   ]
  },
  {
   "cell_type": "markdown",
   "metadata": {},
   "source": [
    "#### We now parse the xml file"
   ]
  },
  {
   "cell_type": "code",
   "execution_count": 12,
   "metadata": {
    "collapsed": true
   },
   "outputs": [],
   "source": [
    "from parse_ICNARC_xml import *"
   ]
  },
  {
   "cell_type": "code",
   "execution_count": 13,
   "metadata": {},
   "outputs": [],
   "source": [
    "icnarc_data = parse_icnarc_xml(\"../ICNARC_Dataset_2015-2018__clean_.xml\",\n",
    "                               \"../ICNARC CMP Dataset Properties.xlsx\",\n",
    "                              verbose=VERBOSE)"
   ]
  },
  {
   "cell_type": "code",
   "execution_count": 14,
   "metadata": {},
   "outputs": [
    {
     "data": {
      "text/plain": [
       "Index([u'Assisted conception used for recent pregnancy',\n",
       "       u'Advanced cardiovascular support days', u'ICNARC Number', u'HIV/AIDS',\n",
       "       u'Acute myelogenous/lymphocytic leukaemia or multiple myeloma',\n",
       "       u'Antimicrobial use after 48 hours in your unit',\n",
       "       u'Associated neutrophil count highest WBC',\n",
       "       u'Associated neutrophil count lowest WBC',\n",
       "       u'Associated neutrophil count pre-admit WBC',\n",
       "       u'Advanced respiratory support days',\n",
       "       ...\n",
       "       u'Type of adult ICU/HDU (out)',\n",
       "       u'Status at ultimate discharge from ICU/HDU',\n",
       "       u'Status at ultimate discharge from hospital', u'Urine output',\n",
       "       u'Ultimate primary reason for admission to your unit',\n",
       "       u'Associated verbal component', u'VRE present',\n",
       "       u'Very severe cardiovascular disease', u'Weight in kg',\n",
       "       u'Weight in kg estimated'],\n",
       "      dtype='object', length=205)"
      ]
     },
     "execution_count": 14,
     "metadata": {},
     "output_type": "execute_result"
    }
   ],
   "source": [
    "icnarc_data.columns"
   ]
  },
  {
   "cell_type": "markdown",
   "metadata": {},
   "source": [
    "#### We now join on ICNARC number and looks at some of the important columns.\n",
    "\n",
    "In particular:\n",
    "* do the LOS number match?\n",
    "* do ages match?"
   ]
  },
  {
   "cell_type": "code",
   "execution_count": null,
   "metadata": {},
   "outputs": [],
   "source": [
    "merged_data"
   ]
  },
  {
   "cell_type": "code",
   "execution_count": null,
   "metadata": {
    "collapsed": true
   },
   "outputs": [],
   "source": []
  }
 ],
 "metadata": {
  "kernelspec": {
   "display_name": "Python 2",
   "language": "python",
   "name": "python2"
  },
  "language_info": {
   "codemirror_mode": {
    "name": "ipython",
    "version": 2
   },
   "file_extension": ".py",
   "mimetype": "text/x-python",
   "name": "python",
   "nbconvert_exporter": "python",
   "pygments_lexer": "ipython2",
   "version": "2.7.13"
  }
 },
 "nbformat": 4,
 "nbformat_minor": 2
}
