{
 "cells": [
  {
   "cell_type": "markdown",
   "metadata": {},
   "source": [
    "# Data curation using data from WardWatcher (ICNARC) and Philips (ICCA).\n",
    "\n",
    "## Contents:\n",
    "### [1. Data Linkage](#section1)\n",
    "\n",
    "We show how data extracted from the ICNARC database (via the Ward Wacther software) is linked to the Philips data to provide more information on patient outcomes, medical history and diagnoses. These ICNARC data, curated as demonstrated here, are included in our research database as a new table: *D_Icnarc* (following the table naming convention for the Philips data), which links to other database tables on *encounterId* and *episodeId*.  \n",
    "\n",
    "### [2. Demonstration analysis.](#section2)\n",
    "\n",
    "We demonstrate some basic analysis of common interventions extracted from the research database. This is for illustrative purposes to show potential users what kind of data is available.\n",
    "\n",
    "***\n",
    "This script uses the following data files:\n",
    "* *encounter_summary.rpt* - a tab separated file with output from an SQL query run on ICCA to extract basic information about patient encounters (ITU stays).\n",
    "\n",
    "* *ICNARC 2015-2018 encounterIds and Readmissions.TXT* - a file containing ICNARC patient IDs and the corresponding *CIS Patient ID*, which link to the *encounterId* numbers in ICCA.\n",
    "\n",
    "* *Philips encounterId Issue List (New).xlsx* - a file documenting known issues with either *encounterIds* in Philips or *CIS Patient IDs* in WW. We clean up the IDs using this file before joining the two datasets.\n",
    "\n",
    "* *ICNARC_Dataset_2015-2018_clean_.xml* - xml file containing standard format output of ICNARC CMP dataset.\n",
    "\n",
    "* *ICNARC CMP Dataset Properties.xlsx* - description of the variables in the ICNARC dataset.\n",
    "\n",
    "***"
   ]
  },
  {
   "cell_type": "code",
   "execution_count": 1,
   "metadata": {},
   "outputs": [
    {
     "name": "stderr",
     "output_type": "stream",
     "text": [
      "/home/rusty/anaconda3/lib/python2.7/site-packages/pandas/_libs/__init__.py:4: RuntimeWarning: numpy.dtype size changed, may indicate binary incompatibility. Expected 96, got 88\n",
      "  from .tslib import iNaT, NaT, Timestamp, Timedelta, OutOfBoundsDatetime\n",
      "/home/rusty/anaconda3/lib/python2.7/site-packages/pandas/__init__.py:26: RuntimeWarning: numpy.dtype size changed, may indicate binary incompatibility. Expected 96, got 88\n",
      "  from pandas._libs import (hashtable as _hashtable,\n",
      "/home/rusty/anaconda3/lib/python2.7/site-packages/pandas/core/dtypes/common.py:6: RuntimeWarning: numpy.dtype size changed, may indicate binary incompatibility. Expected 96, got 88\n",
      "  from pandas._libs import algos, lib\n",
      "/home/rusty/anaconda3/lib/python2.7/site-packages/pandas/core/util/hashing.py:7: RuntimeWarning: numpy.dtype size changed, may indicate binary incompatibility. Expected 96, got 88\n",
      "  from pandas._libs import hashing, tslib\n",
      "/home/rusty/anaconda3/lib/python2.7/site-packages/pandas/core/indexes/base.py:7: RuntimeWarning: numpy.dtype size changed, may indicate binary incompatibility. Expected 96, got 88\n",
      "  from pandas._libs import (lib, index as libindex, tslib as libts,\n",
      "/home/rusty/anaconda3/lib/python2.7/site-packages/pandas/tseries/offsets.py:21: RuntimeWarning: numpy.dtype size changed, may indicate binary incompatibility. Expected 96, got 88\n",
      "  import pandas._libs.tslibs.offsets as liboffsets\n",
      "/home/rusty/anaconda3/lib/python2.7/site-packages/pandas/core/ops.py:16: RuntimeWarning: numpy.dtype size changed, may indicate binary incompatibility. Expected 96, got 88\n",
      "  from pandas._libs import algos as libalgos, ops as libops\n",
      "/home/rusty/anaconda3/lib/python2.7/site-packages/pandas/core/indexes/interval.py:32: RuntimeWarning: numpy.dtype size changed, may indicate binary incompatibility. Expected 96, got 88\n",
      "  from pandas._libs.interval import (\n",
      "/home/rusty/anaconda3/lib/python2.7/site-packages/pandas/core/internals.py:14: RuntimeWarning: numpy.dtype size changed, may indicate binary incompatibility. Expected 96, got 88\n",
      "  from pandas._libs import internals as libinternals\n",
      "/home/rusty/anaconda3/lib/python2.7/site-packages/pandas/core/sparse/array.py:33: RuntimeWarning: numpy.dtype size changed, may indicate binary incompatibility. Expected 96, got 88\n",
      "  import pandas._libs.sparse as splib\n",
      "/home/rusty/anaconda3/lib/python2.7/site-packages/pandas/core/window.py:36: RuntimeWarning: numpy.dtype size changed, may indicate binary incompatibility. Expected 96, got 88\n",
      "  import pandas._libs.window as _window\n",
      "/home/rusty/anaconda3/lib/python2.7/site-packages/pandas/core/groupby/groupby.py:68: RuntimeWarning: numpy.dtype size changed, may indicate binary incompatibility. Expected 96, got 88\n",
      "  from pandas._libs import (lib, reduction,\n",
      "/home/rusty/anaconda3/lib/python2.7/site-packages/pandas/core/reshape/reshape.py:30: RuntimeWarning: numpy.dtype size changed, may indicate binary incompatibility. Expected 96, got 88\n",
      "  from pandas._libs import algos as _algos, reshape as _reshape\n",
      "/home/rusty/anaconda3/lib/python2.7/site-packages/pandas/io/parsers.py:45: RuntimeWarning: numpy.dtype size changed, may indicate binary incompatibility. Expected 96, got 88\n",
      "  import pandas._libs.parsers as parsers\n",
      "/home/rusty/anaconda3/lib/python2.7/site-packages/pandas/io/pytables.py:50: RuntimeWarning: numpy.dtype size changed, may indicate binary incompatibility. Expected 96, got 88\n",
      "  from pandas._libs import algos, lib, writers as libwriters\n"
     ]
    }
   ],
   "source": [
    "VERBOSE = False ## For reasons of data protection we supress printing of results and data summaries.\n",
    "import numpy as np\n",
    "import pandas as pd\n",
    "import matplotlib.pyplot as plt\n",
    "%matplotlib inline"
   ]
  },
  {
   "cell_type": "markdown",
   "metadata": {},
   "source": [
    "<a id='section1'></a>"
   ]
  },
  {
   "cell_type": "markdown",
   "metadata": {},
   "source": [
    "***\n",
    "### 1. Data Linkage.\n",
    "\n",
    "#### Functions for cleaning up the encounter IDs and parsing the ICNARC xml file are imported: "
   ]
  },
  {
   "cell_type": "code",
   "execution_count": 2,
   "metadata": {
    "collapsed": true
   },
   "outputs": [],
   "source": [
    "from clean_encounterids import *\n",
    "from parse_ICNARC_xml import *"
   ]
  },
  {
   "cell_type": "markdown",
   "metadata": {},
   "source": [
    "#### Clean up ICNARC CIS ID numbers.\n",
    "\n",
    "Each record in the ICNARC data links to an encounterId in Philips. In some few cases the links are wrong (e.g. it links to an empty record). The following function fixes those encounter IDs in the ICNARC data by replacing the erroneous encounterIds in the column *CIS Patient ID*. It also creates a new column *CIS Patient ID Original* which contains the original encounterIds prior to replacement. At the time of writing there are only 5 such errors for GICU. These errors are logged by the ICNARC database team at UHB."
   ]
  },
  {
   "cell_type": "code",
   "execution_count": 3,
   "metadata": {
    "collapsed": true
   },
   "outputs": [],
   "source": [
    "icnarc_numbers = clean_icnarc_cis_ids('../ICNARC 2015-2018 encounterIds and Readmissions.TXT', \n",
    "                                      '../Philips encounterId Issue List (New).xlsx',\n",
    "                                    verbose=VERBOSE)"
   ]
  },
  {
   "cell_type": "markdown",
   "metadata": {},
   "source": [
    "#### Clean up Philips encounterId numbers.\n",
    "\n",
    "The Philips database creates a new encounterId for each intensive care stay. Sometimes this process doesn't work as desired e.g. erroneous records are created, patients are accidentally discharged and readmitted creating a new record etc. \n",
    "\n",
    "The following function fixes the class of errors that results in duplicate encounterIds which correspond to the same physical intensive care stay. It does so by replacing the erroneous encounterIds with the 'main' encounterId for that stay (i.e. the encounterId that links to the corresponding ICNARC record). It also creates a new column, *encounterId_original*, that contains the original ids prior to replacement. In the research database all instances of the erroneous IDs are replaced such that duplicate records are remapped. To the original ICCA table *D_Encounter* we add the *encounterId_original* column, and the *error_type* column described below.\n",
    "\n",
    "When the flag *log_error_type* is set to True, the function creates another new column *error_type* which specifies the type of error associated with each encounterId. It gives a string containing one of 16 error types identified by Josh Inoue (UHB) and described in the file \"Philips encounterId Read Me.txt\", or contains \"NA\" if there is no known error. This flag is useful because there are encounterIds which we know have an issue but which we do not alter. For example, very occasionally a patient is discharged from ICU and then readmitted but is never removed from the Philips system. In such cases we know that a single encounterId in Philips (and in ICNARC) corresponds to two physical ICU stays. With the *error_type* flag, the user of the data can decide how they want to deal with different types of error during data processing.      "
   ]
  },
  {
   "cell_type": "code",
   "execution_count": 4,
   "metadata": {
    "collapsed": true
   },
   "outputs": [],
   "source": [
    "philips_data = clean_philips_encounterids('../encounter_summary (1).rpt', \n",
    "                                  '../Philips encounterId Issue List (New).xlsx',\n",
    "                                  verbose=VERBOSE, log_error_type=True)"
   ]
  },
  {
   "cell_type": "markdown",
   "metadata": {},
   "source": [
    "Because we have replaced some erroneous encounterIds with their correct value, there are now multiple rows with the same *encounterId*, with each containing a fragement of data relating to a whole intensive care stay. We combine the stay fragements (and the data they contain) so that each row corresponds to a single stay. This is consistent with the desired behaviour of the *D_Encounter* table. \n",
    "\n",
    "Note: this combination of fragmented data means that the *D_Encounter* table in our research database is slghtly shorter than the original table. (The original table could be reconstructed using the *encounterId_original* column."
   ]
  },
  {
   "cell_type": "code",
   "execution_count": 5,
   "metadata": {
    "collapsed": true
   },
   "outputs": [],
   "source": [
    "philips_data = combine_non_unique_philips_encounters(philips_data, combine='simple', verbose=VERBOSE)\n",
    "if not philips_data['encounterId'].is_unique:\n",
    "    print \"Warning: non-unique ID.\""
   ]
  },
  {
   "cell_type": "markdown",
   "metadata": {},
   "source": [
    "#### Link ICNARC to Philips.\n",
    "\n",
    "Having cleaned the encounterId numbers we can now have a one-to-one mapping between *Philips:encounterId* and *ICNARC:CIS Patient ID* and we can safely link ICNARC records to the corresponding ICU stays in Philips. The following function renames the *CIS Patient ID* column in the ICNARC data as *encounterId* and then does an sql-style inner join on the column using *pandas.DataFrame.merge*"
   ]
  },
  {
   "cell_type": "code",
   "execution_count": 6,
   "metadata": {},
   "outputs": [
    {
     "data": {
      "text/plain": [
       "Index([u'encounterId', u'ptCensusId', u'outTime', u'lengthOfStay (mins)',\n",
       "       u'tNumber', u'gender', u'age', u'error_type', u'inTime',\n",
       "       u'encounterId_original', u'Unit ID', u'ICNARC number',\n",
       "       u'CIS Patient ID Original', u'CIS Episode ID',\n",
       "       u'Readmission during this hospital stay'],\n",
       "      dtype='object')"
      ]
     },
     "execution_count": 6,
     "metadata": {},
     "output_type": "execute_result"
    }
   ],
   "source": [
    "icustays = join_icnarc_to_philips(philips_data, icnarc_numbers, verbose=VERBOSE)\n",
    "icustays.columns"
   ]
  },
  {
   "cell_type": "markdown",
   "metadata": {},
   "source": [
    "#### This *icustays* table represents a clean link between ICNARC and Philips. \n",
    "\n",
    "#### Next we demonstrate the construction of the new database table *D_Icnarc* using data extracted from the local ICNARC dataset in standard XML format."
   ]
  },
  {
   "cell_type": "code",
   "execution_count": 7,
   "metadata": {
    "collapsed": true
   },
   "outputs": [],
   "source": [
    "icnarc_data = parse_icnarc_xml(\"../ICNARC_Dataset_2015-2018__clean_.xml\",\n",
    "                               \"../ICNARC CMP Dataset Properties.xlsx\",\n",
    "                              verbose=VERBOSE)"
   ]
  },
  {
   "cell_type": "markdown",
   "metadata": {},
   "source": [
    "The ICNARC data links to 'icustays' on 'ICNARC number' and 'Unit ID'.\n",
    "\n",
    "This join produces a wide table with 208 columns corresponding to each of the varibales in the ICNARC CMP. The *D_Icnarc* table in our research database is a subset of this table. (In the future ICNARC may start to collect time-stamped data to capture clinical trajectories, in which case we will need to add another table *PtIcnarcData*). \n",
    "\n",
    "Note: *D_Icnarc* links to other tables on *encounterId* and *episodeId* and it is possible that two ICNARC entries share the same encounterId for different episdoes when looking across different intensive care units in UHB. We are currently only discussing the general adult intensive care unit (GICU) so this is not an issue."
   ]
  },
  {
   "cell_type": "code",
   "execution_count": 8,
   "metadata": {
    "collapsed": true
   },
   "outputs": [],
   "source": [
    "icnarc_data = icustays.merge(icnarc_data, on=['ICNARC number', 'Unit ID'])"
   ]
  },
  {
   "cell_type": "markdown",
   "metadata": {},
   "source": [
    "#### Validation.\n",
    "\n",
    "We now conduct some sanity checks and produce summary statistics on the data."
   ]
  },
  {
   "cell_type": "markdown",
   "metadata": {},
   "source": [
    "#### First we use variables from the initial WW/Philips join:"
   ]
  },
  {
   "cell_type": "code",
   "execution_count": 9,
   "metadata": {
    "collapsed": true,
    "scrolled": true
   },
   "outputs": [],
   "source": [
    "columns = [('Date of admission to your unit', 'Time of admission to your unit'), \n",
    "           ('Date of discharge from your unit', 'Time of discharge from your unit'),\n",
    "           ('Date when fully ready to discharge', 'Time when fully ready to discharge'),\n",
    "           ('Date of death', 'Time of death'),\n",
    "           ('Date of declaration of brainstem death', 'Time of declaration of brainstem death'),\n",
    "           ('Date body removed from your unit','Time body removed from your unit')]\n",
    "\n",
    "icnarc_data = combine_date_time_columns(icnarc_data, columns, drop_originals=True)"
   ]
  },
  {
   "cell_type": "code",
   "execution_count": 10,
   "metadata": {
    "collapsed": true
   },
   "outputs": [],
   "source": [
    "icnarc_data['Date of Birth'] = pd.to_datetime(icnarc_data['Date of Birth'], infer_datetime_format=True)\n",
    "icnarc_data['inTime'] = pd.to_datetime(icnarc_data['inTime'], infer_datetime_format=True)\n",
    "icnarc_data['outTime']= pd.to_datetime(icnarc_data['outTime'], infer_datetime_format=True)\n",
    "icnarc_data = calculate_icnarc_outtime(icnarc_data)"
   ]
  },
  {
   "cell_type": "code",
   "execution_count": 11,
   "metadata": {
    "collapsed": true
   },
   "outputs": [],
   "source": [
    "icnarc_data['icnarc_age'] = [(row['Datetime of admission to your unit'] - row['Date of Birth']).total_seconds()/(60*60*24*365.25) for i,row in icnarc_data.iterrows()]\n",
    "icnarc_data['icnarc_los'] = [(row['icnarc_outTime'] - row['Datetime of admission to your unit']).total_seconds()/(60.0) for i,row in icnarc_data.iterrows()]\n",
    "\n",
    "icnarc_data['icnarc_gender'] = icnarc_data['Sex'].apply(lambda x: 'Female' if x=='F' else 'Male')\n",
    "icnarc_data['icnarc_bmi'] = icnarc_data['Weight in kg'].astype(float)/((icnarc_data['Height in cm'].astype(float)/100.0)**2)\n",
    "icnarc_data = icnarc_data.drop(labels=['Sex'], axis=1)"
   ]
  },
  {
   "cell_type": "markdown",
   "metadata": {},
   "source": [
    "#### and get the same summary data as printer above from philips ..."
   ]
  },
  {
   "cell_type": "code",
   "execution_count": 12,
   "metadata": {},
   "outputs": [
    {
     "name": "stdout",
     "output_type": "stream",
     "text": [
      "Age, median years (IQR): 64.0 (50.0, 73.0)\n",
      "LOS, median days (IQR): 3.0 (1.7, 5.6)\n",
      "\n",
      "Gender, % female: 39.7\n",
      "(0.1 % of patients have no gender recorded in Philips.)\n",
      " \n"
     ]
    }
   ],
   "source": [
    "print_philips_summary(icnarc_data)"
   ]
  },
  {
   "cell_type": "code",
   "execution_count": 13,
   "metadata": {},
   "outputs": [
    {
     "name": "stdout",
     "output_type": "stream",
     "text": [
      "Age, median years (IQR): 64.2 (50.8, 73.4)\n",
      "LOS, median days (IQR): 2.9 (1.7, 5.4)\n",
      "\n",
      "Gender, % female: 39.6\n",
      "(0.0 % of patients have no gender recorded in Philips.)\n",
      " \n",
      "Readmission to ICU, #(%) : 147 (3.0)\n",
      "(0.0 % of patients have no recording for this variable in WW.)\n"
     ]
    }
   ],
   "source": [
    "print_icnarc_summary(icnarc_data)"
   ]
  },
  {
   "cell_type": "code",
   "execution_count": 14,
   "metadata": {},
   "outputs": [
    {
     "name": "stdout",
     "output_type": "stream",
     "text": [
      "There are a total of 4831 ITU stays.\n"
     ]
    }
   ],
   "source": [
    "print \"There are a total of %d ITU stays.\" %len(icnarc_data.encounterId.unique())"
   ]
  },
  {
   "cell_type": "markdown",
   "metadata": {},
   "source": [
    "#### To calculate the in-hospital mortality status of each patient in the ICNARC data we need to combine the CMP variables DIS, HDIS, UDIS and UHDIS (see data flow diagram)."
   ]
  },
  {
   "cell_type": "code",
   "execution_count": 47,
   "metadata": {
    "collapsed": true
   },
   "outputs": [],
   "source": [
    "icnarc_data = calculate_icnarc_in_hospital_mortality(icnarc_data)"
   ]
  },
  {
   "cell_type": "code",
   "execution_count": 48,
   "metadata": {},
   "outputs": [
    {
     "data": {
      "text/html": [
       "<div>\n",
       "<style scoped>\n",
       "    .dataframe tbody tr th:only-of-type {\n",
       "        vertical-align: middle;\n",
       "    }\n",
       "\n",
       "    .dataframe tbody tr th {\n",
       "        vertical-align: top;\n",
       "    }\n",
       "\n",
       "    .dataframe thead th {\n",
       "        text-align: right;\n",
       "    }\n",
       "</style>\n",
       "<table border=\"1\" class=\"dataframe\">\n",
       "  <thead>\n",
       "    <tr style=\"text-align: right;\">\n",
       "      <th></th>\n",
       "      <th>icnarc_in_hospital_mortality</th>\n",
       "      <th>count</th>\n",
       "      <th>rate</th>\n",
       "    </tr>\n",
       "  </thead>\n",
       "  <tbody>\n",
       "    <tr>\n",
       "      <th>0</th>\n",
       "      <td>A</td>\n",
       "      <td>3924</td>\n",
       "      <td>0.812254</td>\n",
       "    </tr>\n",
       "    <tr>\n",
       "      <th>1</th>\n",
       "      <td>D</td>\n",
       "      <td>905</td>\n",
       "      <td>0.187332</td>\n",
       "    </tr>\n",
       "    <tr>\n",
       "      <th>2</th>\n",
       "      <td>E</td>\n",
       "      <td>2</td>\n",
       "      <td>0.000414</td>\n",
       "    </tr>\n",
       "  </tbody>\n",
       "</table>\n",
       "</div>"
      ],
      "text/plain": [
       "  icnarc_in_hospital_mortality  count      rate\n",
       "0                            A   3924  0.812254\n",
       "1                            D    905  0.187332\n",
       "2                            E      2  0.000414"
      ]
     },
     "execution_count": 48,
     "metadata": {},
     "output_type": "execute_result"
    }
   ],
   "source": [
    "mortality = icnarc_data.groupby('icnarc_in_hospital_mortality').agg({'encounterId':'count'}).reset_index()\n",
    "mortality = mortality.rename(columns={'encounterId':'count'})\n",
    "mortality['rate'] = mortality['count'] / float(len(icnarc_data))\n",
    "mortality"
   ]
  },
  {
   "cell_type": "code",
   "execution_count": 56,
   "metadata": {
    "collapsed": true
   },
   "outputs": [],
   "source": [
    "primary_reasons = icnarc_data.groupby('Primary reason for admission to your unit').agg({'encounterId':'count'}).sort_values('encounterId', ascending=False).reset_index()\n",
    "secondary_reasons = icnarc_data.groupby('Secondary reason for admission to your unit').agg({'encounterId':'count'}).sort_values('encounterId', ascending=False).reset_index()"
   ]
  },
  {
   "cell_type": "code",
   "execution_count": 57,
   "metadata": {
    "collapsed": true
   },
   "outputs": [],
   "source": [
    "icnarc_codes = {'1.1.4.39.1' : 'Primary lung tumour',\n",
    "               '2.4.2.7.3' : 'Anoxic or ischaemic coma or encephalopathy',\n",
    "               '1.3.9.39.1' : 'Pancreatic or pancreato-duodenal tumour',\n",
    "               '2.1.10.7.3' : 'Anoxic or ischaemic coma or encephalopathy',\n",
    "               '2.1.4.27.5' : 'Pneumonia, no organism isolated',\n",
    "               '1.3.7.39.2' : 'Secondary hepatic tumour',\n",
    "               '2.2.1.30.1' : 'Acute myocardial infarction',\n",
    "               '1.3.2.39.1' : 'Malignant neoplasm of oesophagus',\n",
    "               '1.3.6.39.2' : 'Malignant large bowel tumour',\n",
    "               '2.1.4.27.1' : 'Bacterial pneumonia',\n",
    "               '2.2.5.32.2' : 'Ventricular tachycardia or fibrilation',\n",
    "               '2.2.12.35.2' : 'Septic shock, aetiology uncertain',\n",
    "               '2.7.1.13.2' : 'Acute renal failure due to haemodynamic causes',\n",
    "               '2.7.1.13.1' : 'Acute renal failure due to infection',\n",
    "               '1.3.6.39.2' : 'Malignant large bowel tumour'}"
   ]
  },
  {
   "cell_type": "markdown",
   "metadata": {},
   "source": [
    "#### Note: replace None with 'Other' below to count reasons outside of top 10 most frequent. "
   ]
  },
  {
   "cell_type": "code",
   "execution_count": 58,
   "metadata": {},
   "outputs": [],
   "source": [
    "primary_reasons['Primary reason'] = [icnarc_codes[code] if code in icnarc_codes.keys() else None for code in primary_reasons['Primary reason for admission to your unit']]\n",
    "secondary_reasons['Secondary reason'] = [icnarc_codes[code] if code in icnarc_codes.keys() else None for code in secondary_reasons['Secondary reason for admission to your unit']]"
   ]
  },
  {
   "cell_type": "code",
   "execution_count": 59,
   "metadata": {
    "collapsed": true
   },
   "outputs": [],
   "source": [
    "primary_reasons = primary_reasons.groupby('Primary reason').agg({'encounterId':'sum'}).sort_values('encounterId', ascending=False).reset_index()\n",
    "secondary_reasons = secondary_reasons.groupby('Secondary reason').agg({'encounterId':'sum'}).sort_values('encounterId', ascending=False).reset_index()"
   ]
  },
  {
   "cell_type": "code",
   "execution_count": 68,
   "metadata": {},
   "outputs": [],
   "source": [
    "primary_reasons['percentage'] = 100*primary_reasons['encounterId']/float(len(icnarc_data))\n",
    "secondary_reasons['percentage'] = 100*secondary_reasons['encounterId']/float(len(icnarc_data))"
   ]
  },
  {
   "cell_type": "code",
   "execution_count": 113,
   "metadata": {},
   "outputs": [
    {
     "data": {
      "image/png": "[encoded data removed]",
      "text/plain": [
       "<matplotlib.figure.Figure at 0x7f0595a7e910>"
      ]
     },
     "metadata": {},
     "output_type": "display_data"
    }
   ],
   "source": [
    "# nice use of plot context: https://stackoverflow.com/questions/52134364/how-could-i-get-a-different-pie-chart-color\n",
    "fig = plt.figure(figsize=(14,10))\n",
    "\n",
    "reasons = primary_reasons.iloc[0:9]\n",
    "ax = fig.add_subplot(211)\n",
    "ax.barh(np.arange(len(reasons)),reasons['percentage'], tick_label=reasons['Primary reason'], color='lightskyblue');\n",
    "ax.set_title('Primary reasons for admission', fontsize=14);\n",
    "#ax.set_xlabel('% of ICU admissions')\n",
    "ax.set_xlim([0,9])\n",
    "\n",
    "reasons = secondary_reasons.iloc[0:9]\n",
    "ax = fig.add_subplot(212)\n",
    "ax.barh(np.arange(len(reasons)),reasons['percentage'], tick_label=reasons['Secondary reason'], color='lightskyblue');#plt.cm.tab20b.colors);\n",
    "ax.set_title('Secondary reasons for admission', fontsize=14);\n",
    "ax.set_xlabel('% of ICU admissions', fontsize=12)\n",
    "ax.set_xlim([0,9])\n",
    "    \n",
    "plt.tight_layout()\n",
    "plt.savefig('reasons_for_admission.png');"
   ]
  },
  {
   "cell_type": "code",
   "execution_count": 75,
   "metadata": {
    "collapsed": true
   },
   "outputs": [],
   "source": [
    "admission_type_groups = icnarc_data.groupby('Admission Type').agg({'encounterId':'count'}).sort_values('encounterId', ascending=False).reset_index()\n",
    "discharge_reason_groups = icnarc_data.groupby('Reason for discharge from your unit').agg({'encounterId':'count'}).sort_values('encounterId', ascending=False).reset_index()"
   ]
  },
  {
   "cell_type": "code",
   "execution_count": 76,
   "metadata": {
    "collapsed": true
   },
   "outputs": [],
   "source": [
    "admission_types = {'L': 'Unplanned local surgical or medical admission ',\n",
    "                   'U': 'Unplanned transfer in (e.g. due to lack of capacity)',\n",
    "                   'P': 'Planned transfer in (tertiary referral)',\n",
    "                   'S': 'Planned local surgical admission',\n",
    "                   'M' : 'Planned local medical admission',\n",
    "                   'R' : 'Repatriation'}\n",
    "\n",
    "discharge_reasons = {'N' :'Ending critical care',\n",
    "                     'C' : 'Comparable critical care',\n",
    "                     'M' : 'More-specialist critical care',\n",
    "                     'R' : 'Repatriation', \n",
    "                     'P' : 'Palliative Care', \n",
    "                     'S' : 'Self-discharge'}"
   ]
  },
  {
   "cell_type": "code",
   "execution_count": 107,
   "metadata": {},
   "outputs": [],
   "source": [
    "admission_type_groups['percentage'] = 100*admission_type_groups['encounterId']/float(len(icnarc_data))\n",
    "discharge_reason_groups['percentage'] = 100*discharge_reason_groups['encounterId']/float(len(icnarc_data))\n",
    "\n",
    "admission_type_groups['type'] = [admission_types[k] for k in admission_type_groups['Admission Type']]\n",
    "discharge_reason_groups['type'] = [discharge_reasons[k] for k in discharge_reason_groups['Reason for discharge from your unit']]"
   ]
  },
  {
   "cell_type": "code",
   "execution_count": 115,
   "metadata": {},
   "outputs": [
    {
     "data": {
      "image/png": "[encoded data removed]",
      "text/plain": [
       "<matplotlib.figure.Figure at 0x7f05834eea50>"
      ]
     },
     "metadata": {},
     "output_type": "display_data"
    }
   ],
   "source": [
    "fig, ax = plt.subplots(nrows=2, figsize=(12, 8))#, subplot_kw=dict(aspect=\"equal\"))\n",
    "\n",
    "ax[0].barh(np.arange(len(admission_type_groups)), admission_type_groups['percentage'], color='lightskyblue', tick_label=admission_type_groups['type'])\n",
    "ax[0].set_title(\"Admission type\", fontsize=14)\n",
    "\n",
    "ax[1].barh(np.arange(len(discharge_reason_groups)), discharge_reason_groups['percentage'], color='lightskyblue', tick_label=discharge_reason_groups['type'])\n",
    "ax[1].set_title(\"Discharge reason\", fontsize=14)\n",
    "\n",
    "plt.tight_layout()\n",
    "plt.savefig('admisson_types_discharge_reasons.png')"
   ]
  },
  {
   "cell_type": "code",
   "execution_count": 116,
   "metadata": {
    "collapsed": true
   },
   "outputs": [],
   "source": [
    "rfd = icnarc_data[~icnarc_data['Datetime when fully ready to discharge'].isna()]['Datetime when fully ready to discharge']\n",
    "ddt = icnarc_data[~icnarc_data['Datetime of discharge from your unit'].isna()]['Datetime of discharge from your unit']\n",
    "\n",
    "delay = icnarc_data[~icnarc_data['Datetime when fully ready to discharge'].isna()]\n",
    "delay = delay['Datetime of discharge from your unit'] - delay['Datetime when fully ready to discharge']"
   ]
  },
  {
   "cell_type": "code",
   "execution_count": 117,
   "metadata": {},
   "outputs": [
    {
     "data": {
      "image/png": "[encoded data removed]",
      "text/plain": [
       "<matplotlib.figure.Figure at 0x7f0589ef0550>"
      ]
     },
     "metadata": {},
     "output_type": "display_data"
    }
   ],
   "source": [
    "plt.figure(figsize=(12,5))\n",
    "plt.subplot(1,2,1)\n",
    "p1 = plt.hist(rfd.apply(lambda x: x.time()).values, bins=20, color='lightskyblue')\n",
    "plt.xlabel(\"time ready for discharge\", fontsize=12)\n",
    "plt.ylabel(\"frequency\", fontsize=12)\n",
    "\n",
    "plt.subplot(1,2,2)\n",
    "p2 = plt.hist(ddt.apply(lambda x: x.time()).values, bins=20, color='lightskyblue')\n",
    "plt.xlabel(\"time of actual discharge\", fontsize=12);\n",
    "\n",
    "plt.savefig('discharge_time_histograms.png')"
   ]
  },
  {
   "cell_type": "markdown",
   "metadata": {},
   "source": [
    "#### Now plot length of stay and discharge delay..."
   ]
  },
  {
   "cell_type": "code",
   "execution_count": 118,
   "metadata": {},
   "outputs": [
    {
     "data": {
      "image/png": "[encoded data removed]",
      "text/plain": [
       "<matplotlib.figure.Figure at 0x7f058579a210>"
      ]
     },
     "metadata": {},
     "output_type": "display_data"
    }
   ],
   "source": [
    "plt.figure(figsize=(15,5))\n",
    "\n",
    "plt.subplot(1,2,1)\n",
    "plt.hist(icnarc_data['icnarc_los']/(60*24), bins=20, color='lightskyblue');\n",
    "plt.yscale('log')\n",
    "plt.xlabel('length of stay (days)', fontsize=12)\n",
    "plt.ylabel('frequency', fontsize=12);\n",
    "\n",
    "plt.subplot(1,2,2)\n",
    "plt.hist(delay.apply(lambda x : x.total_seconds()/(60.0*60)), bins=20, color='lightskyblue');\n",
    "plt.yscale('log')\n",
    "plt.xlabel('discharge delay (hours)', fontsize=12);\n",
    "\n",
    "plt.savefig('stay_length_histograms.png')"
   ]
  },
  {
   "cell_type": "markdown",
   "metadata": {},
   "source": [
    "<a id='section2'></a>"
   ]
  },
  {
   "cell_type": "markdown",
   "metadata": {
    "collapsed": true
   },
   "source": [
    "### 2. Demonstration analysis.\n",
    "\n",
    "#### We now load and process physiological data from Philips. These data contain a selection of variables most commonly used in our research and audits. \n",
    "\n",
    "This data comes from two tables in ICCA:\n",
    "* PtAssessment - containing flowsheet data, often recorded at high frequnecy (~1record/hr)\n",
    "* PtLabResult - containing laboratory results data (and similar), usually recorded at lower frequency (~1record/day) \n",
    "\n",
    "For simplicity we combine these data into a single table, 'chartevents'. "
   ]
  },
  {
   "cell_type": "markdown",
   "metadata": {},
   "source": [
    "#### Here we combine and call it chartevents, but in the research database it remains two (or more tables):"
   ]
  },
  {
   "cell_type": "code",
   "execution_count": 119,
   "metadata": {
    "collapsed": true
   },
   "outputs": [],
   "source": [
    "chartevents = clean_philips_encounterids('../ptassess_physiological_data.rpt', \n",
    "                                  '../Philips encounterId Issue List (New).xlsx',\n",
    "                                  verbose=VERBOSE, date_columns=['chartTime', 'storeTime'])"
   ]
  },
  {
   "cell_type": "code",
   "execution_count": 120,
   "metadata": {
    "collapsed": true
   },
   "outputs": [],
   "source": [
    "chartevents = chartevents.append(clean_philips_encounterids('../labresults_physiological_data.rpt', \n",
    "                                  '../Philips encounterId Issue List (New).xlsx',\n",
    "                                  verbose=VERBOSE, date_columns=['chartTime', 'storeTime']))"
   ]
  },
  {
   "cell_type": "markdown",
   "metadata": {},
   "source": [
    "#### Get only encounters that appear in our icustays table: "
   ]
  },
  {
   "cell_type": "code",
   "execution_count": null,
   "metadata": {
    "collapsed": true
   },
   "outputs": [],
   "source": [
    "chartevents = chartevents.merge(icnarc_data[['encounterId']],how='right', on='encounterId')"
   ]
  },
  {
   "cell_type": "markdown",
   "metadata": {
    "collapsed": true
   },
   "source": [
    "#### Extract numbers from variables that use valueString rather than valueNumber:\n",
    "\n",
    "Note: processing this large table is slow. We save it to disk after each stage of processing so it doesn't need to be repeated."
   ]
  },
  {
   "cell_type": "code",
   "execution_count": null,
   "metadata": {
    "collapsed": true
   },
   "outputs": [],
   "source": [
    "chartevents['value'] = [row['valueString'] if row['attributeId'] in [16240,6847,6849,6851,8590, 34870, 34873, 8584, 3566, 25545] else row ['valueNumber'] for i,row in chartevents.iterrows()]"
   ]
  },
  {
   "cell_type": "markdown",
   "metadata": {},
   "source": [
    "#### Get key that defines each variable/intervention/attribute:"
   ]
  },
  {
   "cell_type": "code",
   "execution_count": null,
   "metadata": {
    "collapsed": true
   },
   "outputs": [],
   "source": [
    "interventions = pd.read_excel('interventions_and_attributes.xlsx', sheet_name='key')"
   ]
  },
  {
   "cell_type": "code",
   "execution_count": null,
   "metadata": {
    "collapsed": true
   },
   "outputs": [],
   "source": [
    "chartevents = pd.merge(chartevents, interventions, how='left', left_on=['interventionId', 'attributeId'], right_on=['interventionId', 'attributeId'])"
   ]
  },
  {
   "cell_type": "code",
   "execution_count": null,
   "metadata": {},
   "outputs": [],
   "source": [
    "chartevents.to_csv('cohort_chartevents.csv')\n",
    "#chartevents = pd.read_csv('cohort_chartevents.csv', parse_dates=[2,3])"
   ]
  },
  {
   "cell_type": "markdown",
   "metadata": {},
   "source": [
    "#### How many icustays have a recording of each variable:"
   ]
  },
  {
   "cell_type": "code",
   "execution_count": 30,
   "metadata": {
    "collapsed": true
   },
   "outputs": [],
   "source": [
    "record_completeness = chartevents.groupby('Variable').agg({'encounterId':pd.Series.nunique}).sort_values('encounterId', ascending=False)\n",
    "record_completeness = record_completeness.rename(columns={'encounterId':'completeness'})\n",
    "record_completeness['completeness'] /= float(len(chartevents.encounterId.unique()))"
   ]
  },
  {
   "cell_type": "code",
   "execution_count": 31,
   "metadata": {},
   "outputs": [
    {
     "data": {
      "text/html": [
       "<div>\n",
       "<style scoped>\n",
       "    .dataframe tbody tr th:only-of-type {\n",
       "        vertical-align: middle;\n",
       "    }\n",
       "\n",
       "    .dataframe tbody tr th {\n",
       "        vertical-align: top;\n",
       "    }\n",
       "\n",
       "    .dataframe thead th {\n",
       "        text-align: right;\n",
       "    }\n",
       "</style>\n",
       "<table border=\"1\" class=\"dataframe\">\n",
       "  <thead>\n",
       "    <tr style=\"text-align: right;\">\n",
       "      <th></th>\n",
       "      <th>completeness</th>\n",
       "    </tr>\n",
       "    <tr>\n",
       "      <th>Variable</th>\n",
       "      <th></th>\n",
       "    </tr>\n",
       "  </thead>\n",
       "  <tbody>\n",
       "    <tr>\n",
       "      <th>Serum sodium</th>\n",
       "      <td>0.998965</td>\n",
       "    </tr>\n",
       "    <tr>\n",
       "      <th>Serum potassium</th>\n",
       "      <td>0.998965</td>\n",
       "    </tr>\n",
       "    <tr>\n",
       "      <th>Heart Rate</th>\n",
       "      <td>0.996895</td>\n",
       "    </tr>\n",
       "    <tr>\n",
       "      <th>Respiratory Rate</th>\n",
       "      <td>0.996481</td>\n",
       "    </tr>\n",
       "    <tr>\n",
       "      <th>SpO2</th>\n",
       "      <td>0.995239</td>\n",
       "    </tr>\n",
       "    <tr>\n",
       "      <th>GCS</th>\n",
       "      <td>0.992962</td>\n",
       "    </tr>\n",
       "    <tr>\n",
       "      <th>GCS Eyes</th>\n",
       "      <td>0.992962</td>\n",
       "    </tr>\n",
       "    <tr>\n",
       "      <th>GCS Motor</th>\n",
       "      <td>0.992962</td>\n",
       "    </tr>\n",
       "    <tr>\n",
       "      <th>GCS Verbal</th>\n",
       "      <td>0.992962</td>\n",
       "    </tr>\n",
       "    <tr>\n",
       "      <th>Platelets</th>\n",
       "      <td>0.992134</td>\n",
       "    </tr>\n",
       "    <tr>\n",
       "      <th>pCO2</th>\n",
       "      <td>0.991099</td>\n",
       "    </tr>\n",
       "    <tr>\n",
       "      <th>Serum ionised calcium</th>\n",
       "      <td>0.991099</td>\n",
       "    </tr>\n",
       "    <tr>\n",
       "      <th>pO2</th>\n",
       "      <td>0.990892</td>\n",
       "    </tr>\n",
       "    <tr>\n",
       "      <th>Serum bicarbonate</th>\n",
       "      <td>0.990892</td>\n",
       "    </tr>\n",
       "    <tr>\n",
       "      <th>Serum pH</th>\n",
       "      <td>0.990892</td>\n",
       "    </tr>\n",
       "    <tr>\n",
       "      <th>Haemoglobin</th>\n",
       "      <td>0.990892</td>\n",
       "    </tr>\n",
       "    <tr>\n",
       "      <th>Airway</th>\n",
       "      <td>0.990685</td>\n",
       "    </tr>\n",
       "    <tr>\n",
       "      <th>Serum urea</th>\n",
       "      <td>0.990685</td>\n",
       "    </tr>\n",
       "    <tr>\n",
       "      <th>Bilirubin</th>\n",
       "      <td>0.989857</td>\n",
       "    </tr>\n",
       "    <tr>\n",
       "      <th>Serum creatinine</th>\n",
       "      <td>0.989857</td>\n",
       "    </tr>\n",
       "    <tr>\n",
       "      <th>Peripheral Temperature</th>\n",
       "      <td>0.983647</td>\n",
       "    </tr>\n",
       "    <tr>\n",
       "      <th>Arterial BP Systolic</th>\n",
       "      <td>0.954461</td>\n",
       "    </tr>\n",
       "    <tr>\n",
       "      <th>Arterial BP Diastolic</th>\n",
       "      <td>0.953840</td>\n",
       "    </tr>\n",
       "    <tr>\n",
       "      <th>Arterial BP Mean</th>\n",
       "      <td>0.953426</td>\n",
       "    </tr>\n",
       "    <tr>\n",
       "      <th>FiO2</th>\n",
       "      <td>0.840613</td>\n",
       "    </tr>\n",
       "    <tr>\n",
       "      <th>Non-Invasive BP Systolic</th>\n",
       "      <td>0.839164</td>\n",
       "    </tr>\n",
       "    <tr>\n",
       "      <th>Non-Invasive BP Diastolic</th>\n",
       "      <td>0.838336</td>\n",
       "    </tr>\n",
       "    <tr>\n",
       "      <th>Non-Invasive BP Mean</th>\n",
       "      <td>0.834610</td>\n",
       "    </tr>\n",
       "    <tr>\n",
       "      <th>Pain Scale (VAS)</th>\n",
       "      <td>0.752225</td>\n",
       "    </tr>\n",
       "    <tr>\n",
       "      <th>PEEP</th>\n",
       "      <td>0.509211</td>\n",
       "    </tr>\n",
       "    <tr>\n",
       "      <th>Central Temperature</th>\n",
       "      <td>0.245498</td>\n",
       "    </tr>\n",
       "    <tr>\n",
       "      <th>Pain Scale (VAS) (on movement)</th>\n",
       "      <td>0.153798</td>\n",
       "    </tr>\n",
       "    <tr>\n",
       "      <th>Access (Arterial) Pressure</th>\n",
       "      <td>0.101014</td>\n",
       "    </tr>\n",
       "  </tbody>\n",
       "</table>\n",
       "</div>"
      ],
      "text/plain": [
       "                                completeness\n",
       "Variable                                    \n",
       "Serum sodium                        0.998965\n",
       "Serum potassium                     0.998965\n",
       "Heart Rate                          0.996895\n",
       "Respiratory Rate                    0.996481\n",
       "SpO2                                0.995239\n",
       "GCS                                 0.992962\n",
       "GCS Eyes                            0.992962\n",
       "GCS Motor                           0.992962\n",
       "GCS Verbal                          0.992962\n",
       "Platelets                           0.992134\n",
       "pCO2                                0.991099\n",
       "Serum ionised calcium               0.991099\n",
       "pO2                                 0.990892\n",
       "Serum bicarbonate                   0.990892\n",
       "Serum pH                            0.990892\n",
       "Haemoglobin                         0.990892\n",
       "Airway                              0.990685\n",
       "Serum urea                          0.990685\n",
       "Bilirubin                           0.989857\n",
       "Serum creatinine                    0.989857\n",
       "Peripheral Temperature              0.983647\n",
       "Arterial BP Systolic                0.954461\n",
       "Arterial BP Diastolic               0.953840\n",
       "Arterial BP Mean                    0.953426\n",
       "FiO2                                0.840613\n",
       "Non-Invasive BP Systolic            0.839164\n",
       "Non-Invasive BP Diastolic           0.838336\n",
       "Non-Invasive BP Mean                0.834610\n",
       "Pain Scale (VAS)                    0.752225\n",
       "PEEP                                0.509211\n",
       "Central Temperature                 0.245498\n",
       "Pain Scale (VAS) (on movement)      0.153798\n",
       "Access (Arterial) Pressure          0.101014"
      ]
     },
     "execution_count": 31,
     "metadata": {},
     "output_type": "execute_result"
    }
   ],
   "source": [
    "record_completeness"
   ]
  },
  {
   "cell_type": "code",
   "execution_count": 32,
   "metadata": {},
   "outputs": [
    {
     "name": "stdout",
     "output_type": "stream",
     "text": [
      "33\n",
      "[u'GCS' u'GCS Motor' u'GCS Verbal' u'GCS Eyes' u'Airway' u'FiO2'\n",
      " u'Heart Rate' u'Haemoglobin' u'Respiratory Rate' u'SpO2'\n",
      " u'Non-Invasive BP Mean' u'Non-Invasive BP Systolic'\n",
      " u'Non-Invasive BP Diastolic' u'Arterial BP Mean' u'Arterial BP Systolic'\n",
      " u'Arterial BP Diastolic' u'Pain Scale (VAS)'\n",
      " u'Pain Scale (VAS) (on movement)' u'Peripheral Temperature'\n",
      " u'Central Temperature' u'Serum pH' u'Serum sodium' u'Serum potassium'\n",
      " u'Serum ionised calcium' u'Serum bicarbonate' u'Serum urea'\n",
      " u'Serum creatinine' u'Access (Arterial) Pressure' u'PEEP' u'pO2' u'pCO2 '\n",
      " u'Bilirubin' u'Platelets']\n"
     ]
    }
   ],
   "source": [
    "print len(interventions.Variable.unique())\n",
    "print interventions.Variable.unique()"
   ]
  },
  {
   "cell_type": "code",
   "execution_count": 33,
   "metadata": {
    "collapsed": true
   },
   "outputs": [],
   "source": [
    "counts = chartevents.groupby(['encounterId', 'Variable']).agg({'encounterId':['count'], 'chartTime':['min', 'max']})\n",
    "counts.columns = list(map('_'.join, counts.columns.values))\n",
    "counts = counts.reset_index()"
   ]
  },
  {
   "cell_type": "code",
   "execution_count": 34,
   "metadata": {
    "collapsed": true
   },
   "outputs": [],
   "source": [
    "counts = counts.merge(icnarc_data[['encounterId','icnarc_los']], on='encounterId', how='inner')\n",
    "counts['freq'] = [row['encounterId_count']/(row['icnarc_los']/(60.0)) for i,row in counts.iterrows()]"
   ]
  },
  {
   "cell_type": "code",
   "execution_count": 35,
   "metadata": {},
   "outputs": [
    {
     "data": {
      "text/html": [
       "<div>\n",
       "<style scoped>\n",
       "    .dataframe tbody tr th:only-of-type {\n",
       "        vertical-align: middle;\n",
       "    }\n",
       "\n",
       "    .dataframe tbody tr th {\n",
       "        vertical-align: top;\n",
       "    }\n",
       "\n",
       "    .dataframe thead th {\n",
       "        text-align: right;\n",
       "    }\n",
       "</style>\n",
       "<table border=\"1\" class=\"dataframe\">\n",
       "  <thead>\n",
       "    <tr style=\"text-align: right;\">\n",
       "      <th></th>\n",
       "      <th>freq_mean</th>\n",
       "      <th>freq_std</th>\n",
       "    </tr>\n",
       "    <tr>\n",
       "      <th>Variable</th>\n",
       "      <th></th>\n",
       "      <th></th>\n",
       "    </tr>\n",
       "  </thead>\n",
       "  <tbody>\n",
       "    <tr>\n",
       "      <th>Respiratory Rate</th>\n",
       "      <td>1.310394</td>\n",
       "      <td>0.923121</td>\n",
       "    </tr>\n",
       "    <tr>\n",
       "      <th>FiO2</th>\n",
       "      <td>0.922432</td>\n",
       "      <td>0.788986</td>\n",
       "    </tr>\n",
       "    <tr>\n",
       "      <th>Heart Rate</th>\n",
       "      <td>0.835824</td>\n",
       "      <td>0.311151</td>\n",
       "    </tr>\n",
       "    <tr>\n",
       "      <th>SpO2</th>\n",
       "      <td>0.809720</td>\n",
       "      <td>0.309111</td>\n",
       "    </tr>\n",
       "    <tr>\n",
       "      <th>Arterial BP Mean</th>\n",
       "      <td>0.699568</td>\n",
       "      <td>0.356515</td>\n",
       "    </tr>\n",
       "    <tr>\n",
       "      <th>Arterial BP Diastolic</th>\n",
       "      <td>0.698276</td>\n",
       "      <td>0.355979</td>\n",
       "    </tr>\n",
       "    <tr>\n",
       "      <th>Arterial BP Systolic</th>\n",
       "      <td>0.698062</td>\n",
       "      <td>0.356200</td>\n",
       "    </tr>\n",
       "    <tr>\n",
       "      <th>Airway</th>\n",
       "      <td>0.671725</td>\n",
       "      <td>0.297497</td>\n",
       "    </tr>\n",
       "    <tr>\n",
       "      <th>Access (Arterial) Pressure</th>\n",
       "      <td>0.661339</td>\n",
       "      <td>1.218776</td>\n",
       "    </tr>\n",
       "    <tr>\n",
       "      <th>Serum bicarbonate</th>\n",
       "      <td>0.622238</td>\n",
       "      <td>0.491741</td>\n",
       "    </tr>\n",
       "    <tr>\n",
       "      <th>Central Temperature</th>\n",
       "      <td>0.547355</td>\n",
       "      <td>0.666272</td>\n",
       "    </tr>\n",
       "    <tr>\n",
       "      <th>PEEP</th>\n",
       "      <td>0.534654</td>\n",
       "      <td>0.387502</td>\n",
       "    </tr>\n",
       "    <tr>\n",
       "      <th>Serum sodium</th>\n",
       "      <td>0.453651</td>\n",
       "      <td>0.452378</td>\n",
       "    </tr>\n",
       "    <tr>\n",
       "      <th>Serum potassium</th>\n",
       "      <td>0.451158</td>\n",
       "      <td>0.451235</td>\n",
       "    </tr>\n",
       "    <tr>\n",
       "      <th>Pain Scale (VAS)</th>\n",
       "      <td>0.362429</td>\n",
       "      <td>0.182010</td>\n",
       "    </tr>\n",
       "    <tr>\n",
       "      <th>Serum ionised calcium</th>\n",
       "      <td>0.351328</td>\n",
       "      <td>0.314051</td>\n",
       "    </tr>\n",
       "    <tr>\n",
       "      <th>pCO2</th>\n",
       "      <td>0.349795</td>\n",
       "      <td>0.312404</td>\n",
       "    </tr>\n",
       "    <tr>\n",
       "      <th>Serum pH</th>\n",
       "      <td>0.349642</td>\n",
       "      <td>0.311717</td>\n",
       "    </tr>\n",
       "    <tr>\n",
       "      <th>pO2</th>\n",
       "      <td>0.347998</td>\n",
       "      <td>0.312622</td>\n",
       "    </tr>\n",
       "    <tr>\n",
       "      <th>Peripheral Temperature</th>\n",
       "      <td>0.292728</td>\n",
       "      <td>0.123345</td>\n",
       "    </tr>\n",
       "    <tr>\n",
       "      <th>GCS Eyes</th>\n",
       "      <td>0.284299</td>\n",
       "      <td>0.131968</td>\n",
       "    </tr>\n",
       "    <tr>\n",
       "      <th>GCS Verbal</th>\n",
       "      <td>0.284118</td>\n",
       "      <td>0.131910</td>\n",
       "    </tr>\n",
       "    <tr>\n",
       "      <th>GCS Motor</th>\n",
       "      <td>0.284066</td>\n",
       "      <td>0.133167</td>\n",
       "    </tr>\n",
       "    <tr>\n",
       "      <th>GCS</th>\n",
       "      <td>0.283856</td>\n",
       "      <td>0.133132</td>\n",
       "    </tr>\n",
       "    <tr>\n",
       "      <th>Non-Invasive BP Systolic</th>\n",
       "      <td>0.258695</td>\n",
       "      <td>0.363691</td>\n",
       "    </tr>\n",
       "    <tr>\n",
       "      <th>Non-Invasive BP Diastolic</th>\n",
       "      <td>0.258543</td>\n",
       "      <td>0.363552</td>\n",
       "    </tr>\n",
       "    <tr>\n",
       "      <th>Non-Invasive BP Mean</th>\n",
       "      <td>0.254018</td>\n",
       "      <td>0.367398</td>\n",
       "    </tr>\n",
       "    <tr>\n",
       "      <th>Pain Scale (VAS) (on movement)</th>\n",
       "      <td>0.206811</td>\n",
       "      <td>0.102814</td>\n",
       "    </tr>\n",
       "    <tr>\n",
       "      <th>Platelets</th>\n",
       "      <td>0.111460</td>\n",
       "      <td>0.337193</td>\n",
       "    </tr>\n",
       "    <tr>\n",
       "      <th>Haemoglobin</th>\n",
       "      <td>0.109208</td>\n",
       "      <td>0.336858</td>\n",
       "    </tr>\n",
       "    <tr>\n",
       "      <th>Serum urea</th>\n",
       "      <td>0.106984</td>\n",
       "      <td>0.183895</td>\n",
       "    </tr>\n",
       "    <tr>\n",
       "      <th>Serum creatinine</th>\n",
       "      <td>0.106737</td>\n",
       "      <td>0.183941</td>\n",
       "    </tr>\n",
       "    <tr>\n",
       "      <th>Bilirubin</th>\n",
       "      <td>0.097640</td>\n",
       "      <td>0.160724</td>\n",
       "    </tr>\n",
       "  </tbody>\n",
       "</table>\n",
       "</div>"
      ],
      "text/plain": [
       "                                freq_mean  freq_std\n",
       "Variable                                           \n",
       "Respiratory Rate                 1.310394  0.923121\n",
       "FiO2                             0.922432  0.788986\n",
       "Heart Rate                       0.835824  0.311151\n",
       "SpO2                             0.809720  0.309111\n",
       "Arterial BP Mean                 0.699568  0.356515\n",
       "Arterial BP Diastolic            0.698276  0.355979\n",
       "Arterial BP Systolic             0.698062  0.356200\n",
       "Airway                           0.671725  0.297497\n",
       "Access (Arterial) Pressure       0.661339  1.218776\n",
       "Serum bicarbonate                0.622238  0.491741\n",
       "Central Temperature              0.547355  0.666272\n",
       "PEEP                             0.534654  0.387502\n",
       "Serum sodium                     0.453651  0.452378\n",
       "Serum potassium                  0.451158  0.451235\n",
       "Pain Scale (VAS)                 0.362429  0.182010\n",
       "Serum ionised calcium            0.351328  0.314051\n",
       "pCO2                             0.349795  0.312404\n",
       "Serum pH                         0.349642  0.311717\n",
       "pO2                              0.347998  0.312622\n",
       "Peripheral Temperature           0.292728  0.123345\n",
       "GCS Eyes                         0.284299  0.131968\n",
       "GCS Verbal                       0.284118  0.131910\n",
       "GCS Motor                        0.284066  0.133167\n",
       "GCS                              0.283856  0.133132\n",
       "Non-Invasive BP Systolic         0.258695  0.363691\n",
       "Non-Invasive BP Diastolic        0.258543  0.363552\n",
       "Non-Invasive BP Mean             0.254018  0.367398\n",
       "Pain Scale (VAS) (on movement)   0.206811  0.102814\n",
       "Platelets                        0.111460  0.337193\n",
       "Haemoglobin                      0.109208  0.336858\n",
       "Serum urea                       0.106984  0.183895\n",
       "Serum creatinine                 0.106737  0.183941\n",
       "Bilirubin                        0.097640  0.160724"
      ]
     },
     "execution_count": 35,
     "metadata": {},
     "output_type": "execute_result"
    }
   ],
   "source": [
    "freqs = counts.groupby('Variable').agg({'freq':['mean', 'std']})\n",
    "freqs.columns = list(map('_'.join, freqs.columns.values))\n",
    "freqs.sort_values('freq_mean', ascending=False)"
   ]
  },
  {
   "cell_type": "markdown",
   "metadata": {},
   "source": [
    "#### What do the distributions of variable values look like?\n",
    "\n",
    "First we remove variables we don't want to calculate:"
   ]
  },
  {
   "cell_type": "code",
   "execution_count": 61,
   "metadata": {},
   "outputs": [
    {
     "data": {
      "text/plain": [
       "26"
      ]
     },
     "execution_count": 61,
     "metadata": {},
     "output_type": "execute_result"
    }
   ],
   "source": [
    "variables = [i for i in interventions['Variable'].unique() if i not in ['Airway', 'GCS Motor', 'GCS Verbal', 'GCS Eyes', 'Pain Scale (VAS) (on movement)', 'Pain Scale (VAS)', 'Access (Arterial) Pressure']]\n",
    "len(variables)"
   ]
  },
  {
   "cell_type": "markdown",
   "metadata": {},
   "source": [
    "#### Need to cast value column to float before take mean anfd stdev.\n",
    "\n",
    "#### To do this we also need to drop missing values ('None' in 'value' string)."
   ]
  },
  {
   "cell_type": "code",
   "execution_count": 62,
   "metadata": {
    "collapsed": true
   },
   "outputs": [],
   "source": [
    "chartevents_nona = chartevents.dropna(subset=['value'])"
   ]
  },
  {
   "cell_type": "code",
   "execution_count": 64,
   "metadata": {},
   "outputs": [
    {
     "data": {
      "text/plain": [
       "0"
      ]
     },
     "execution_count": 64,
     "metadata": {},
     "output_type": "execute_result"
    }
   ],
   "source": [
    "sum(~chartevents[chartevents['Variable']=='Pain Scale (VAS)']['value'].isna()) ## all Pain scale values recorded as ValueString"
   ]
  },
  {
   "cell_type": "code",
   "execution_count": 124,
   "metadata": {
    "collapsed": true
   },
   "outputs": [],
   "source": [
    "def plot_variable_histogram_grid(var_names, var_list=[]):\n",
    "    \n",
    "    plt.figure(figsize=(15,15))\n",
    "    for i,j in enumerate(var_list):\n",
    "        print var_names[j]\n",
    "        \n",
    "        ax = plt.subplot(3,3,i+1)\n",
    "        vvals = chartevents[chartevents['Variable']==var_names[j]]['value']\n",
    "        \n",
    "        if len(vvals)>0:\n",
    "            vvals = pd.to_numeric(vvals, errors='coerce')\n",
    "            plt.hist(vvals.dropna().values, bins=20, color='lightskyblue');\n",
    "            ax.set_xlabel(var_names[j])\n",
    "            if i in [0,3,6]:\n",
    "                ax.set_ylabel('frequency')\n",
    "        else:\n",
    "            print var + \" not in chartevents.\""
   ]
  },
  {
   "cell_type": "code",
   "execution_count": 128,
   "metadata": {},
   "outputs": [
    {
     "name": "stdout",
     "output_type": "stream",
     "text": [
      "GCS\n",
      "FiO2\n",
      "Heart Rate\n",
      "Haemoglobin\n",
      "Respiratory Rate\n",
      "SpO2\n",
      "Non-Invasive BP Mean\n",
      "Non-Invasive BP Systolic\n",
      "Non-Invasive BP Diastolic\n",
      "Arterial BP Mean\n",
      "Arterial BP Systolic\n",
      "Arterial BP Diastolic\n",
      "Peripheral Temperature\n",
      "Central Temperature\n",
      "Serum pH\n",
      "Serum sodium\n",
      "Serum potassium\n",
      "Serum ionised calcium\n",
      "Serum bicarbonate\n",
      "Serum urea\n",
      "Serum creatinine\n",
      "PEEP\n",
      "pO2\n",
      "pCO2 \n",
      "Bilirubin\n",
      "Platelets\n"
     ]
    },
    {
     "data": {
      "image/png": "[encoded data removed]",
      "text/plain": [
       "<matplotlib.figure.Figure at 0x7f14dbc7d690>"
      ]
     },
     "metadata": {},
     "output_type": "display_data"
    },
    {
     "data": {
      "image/png": "[encoded data removed]",
      "text/plain": [
       "<matplotlib.figure.Figure at 0x7f14d83c35d0>"
      ]
     },
     "metadata": {},
     "output_type": "display_data"
    },
    {
     "data": {
      "image/png": "[encoded data removed]",
      "text/plain": [
       "<matplotlib.figure.Figure at 0x7f14d422b390>"
      ]
     },
     "metadata": {},
     "output_type": "display_data"
    }
   ],
   "source": [
    "plot_variable_histogram_grid(variables, np.arange(9))\n",
    "plt.savefig('variable_hists1.png')\n",
    "\n",
    "plot_variable_histogram_grid(variables, np.arange(9)+9)\n",
    "plt.savefig('variable_hists2.png')\n",
    "\n",
    "plot_variable_histogram_grid(variables, np.arange(8)+18)\n",
    "plt.savefig('variable_hists3.png')"
   ]
  },
  {
   "cell_type": "markdown",
   "metadata": {},
   "source": [
    "#### What are the average values of each variable?"
   ]
  },
  {
   "cell_type": "code",
   "execution_count": 129,
   "metadata": {},
   "outputs": [
    {
     "name": "stdout",
     "output_type": "stream",
     "text": [
      "GCS : 10.472 (4.753)\n",
      "FiO2 : 36.510 (14.576)\n",
      "Heart Rate : 85.878 (19.061)\n",
      "Haemoglobin : 101.869 (22.866)\n",
      "Respiratory Rate : 18.430 (11.187)\n",
      "SpO2 : 95.705 (3.567)\n",
      "Non-Invasive BP Mean : 83.908 (19.369)\n",
      "Non-Invasive BP Systolic : 124.320 (26.622)\n",
      "Non-Invasive BP Diastolic : 65.870 (18.173)\n",
      "Arterial BP Mean : 80.043 (18.327)\n",
      "Arterial BP Systolic : 119.991 (24.731)\n",
      "Arterial BP Diastolic : 59.305 (14.074)\n",
      "Peripheral Temperature : 37.060 (0.961)\n",
      "Central Temperature : 36.100 (1.801)\n",
      "Serum pH : 7.396 (0.093)\n",
      "Serum sodium : 137.267 (5.571)\n",
      "Serum potassium : 4.379 (0.599)\n",
      "Serum ionised calcium : 1.127 (0.154)\n",
      "Serum bicarbonate : 25.654 (4.837)\n",
      "Serum urea : 9.133 (6.912)\n",
      "Serum creatinine : 105.553 (89.350)\n",
      "PEEP : 8.018 (2.747)\n",
      "pO2 : 10.873 (5.714)\n",
      "pCO2  : 5.622 (1.414)\n",
      "Bilirubin : nan (nan)\n",
      "Platelets : 246.143 (151.254)\n"
     ]
    }
   ],
   "source": [
    "for i,var in enumerate(variables):\n",
    "    vvals = chartevents[chartevents['Variable']==var]['value'] \n",
    "    \n",
    "    mean = np.mean(pd.to_numeric(vvals, errors='coerce'))\n",
    "    std = np.std(pd.to_numeric(vvals, errors='coerce'))\n",
    "    \n",
    "    print var + ' : %.3f (%.3f)' %(mean,std) "
   ]
  },
  {
   "cell_type": "markdown",
   "metadata": {},
   "source": [
    "### Bilirubin is always stored as ValueNumber?? (attributeId=25545 now added to value column combination for buildings chartevents table - rerun.)\n",
    "chartevents[chartevents['Variable']=='Bilirubin']"
   ]
  },
  {
   "cell_type": "markdown",
   "metadata": {},
   "source": [
    "## Note: need to process variables to remove non-physiological values and anomlaies..."
   ]
  },
  {
   "cell_type": "code",
   "execution_count": null,
   "metadata": {
    "collapsed": true
   },
   "outputs": [],
   "source": []
  }
 ],
 "metadata": {
  "kernelspec": {
   "display_name": "Python 2",
   "language": "python",
   "name": "python2"
  },
  "language_info": {
   "codemirror_mode": {
    "name": "ipython",
    "version": 2
   },
   "file_extension": ".py",
   "mimetype": "text/x-python",
   "name": "python",
   "nbconvert_exporter": "python",
   "pygments_lexer": "ipython2",
   "version": "2.7.13"
  }
 },
 "nbformat": 4,
 "nbformat_minor": 2
}
