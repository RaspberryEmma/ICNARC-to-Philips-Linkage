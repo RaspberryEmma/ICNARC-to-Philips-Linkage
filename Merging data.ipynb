{
 "cells": [
  {
   "cell_type": "markdown",
   "metadata": {},
   "source": [
    "### Merging data from WardWatcher (ICNARC) and Philips (ICCA).\n",
    "\n",
    "Here use the following files:\n",
    "\n",
    "* 'encounter_summary (1).rpt'  - a tab separated file with output from a simple SQL run on ICCA to extract basic information about patient encounters (ITU stays).\n",
    "\n",
    "* 'ICNARC 2015-2018 encounterIds and Readmissions.TXT' - a file containing ICNARC patient IDs and the corresponding 'CIS Patient ID', which link to encounterID in Philips.\n",
    "\n",
    "* 'Philips encounterId Issue List (New).xlsx' - a file documenting known issues with either encounterIds in Philips or CIS Patient IDs in WW. We clean up the IDs using this file before joining the two datasets.\n",
    "\n",
    "* 'ICNARC_Dataset_2015-2018__clean_.xml' - xml file containing output of ICNARC dataset\n",
    "\n",
    "* 'ICNARC CMP Dataset Properties.xlsx' - description of variables in the ICNARC dataset"
   ]
  },
  {
   "cell_type": "code",
   "execution_count": 10,
   "metadata": {
    "collapsed": true
   },
   "outputs": [],
   "source": [
    "VERBOSE = False ## For reasons of data protection we supress printing of results and data summaries.\n",
    "import numpy as np"
   ]
  },
  {
   "cell_type": "markdown",
   "metadata": {},
   "source": [
    "#### Functions for cleaning up the encounter IDs and parsing the ICNARC xml file are imported: "
   ]
  },
  {
   "cell_type": "code",
   "execution_count": 2,
   "metadata": {
    "collapsed": true
   },
   "outputs": [
    {
     "name": "stderr",
     "output_type": "stream",
     "text": [
      "/home/rusty/anaconda3/lib/python2.7/site-packages/pandas/_libs/__init__.py:4: RuntimeWarning: numpy.dtype size changed, may indicate binary incompatibility. Expected 96, got 88\n",
      "  from .tslib import iNaT, NaT, Timestamp, Timedelta, OutOfBoundsDatetime\n",
      "/home/rusty/anaconda3/lib/python2.7/site-packages/pandas/__init__.py:26: RuntimeWarning: numpy.dtype size changed, may indicate binary incompatibility. Expected 96, got 88\n",
      "  from pandas._libs import (hashtable as _hashtable,\n",
      "/home/rusty/anaconda3/lib/python2.7/site-packages/pandas/core/dtypes/common.py:6: RuntimeWarning: numpy.dtype size changed, may indicate binary incompatibility. Expected 96, got 88\n",
      "  from pandas._libs import algos, lib\n",
      "/home/rusty/anaconda3/lib/python2.7/site-packages/pandas/core/util/hashing.py:7: RuntimeWarning: numpy.dtype size changed, may indicate binary incompatibility. Expected 96, got 88\n",
      "  from pandas._libs import hashing, tslib\n",
      "/home/rusty/anaconda3/lib/python2.7/site-packages/pandas/core/indexes/base.py:7: RuntimeWarning: numpy.dtype size changed, may indicate binary incompatibility. Expected 96, got 88\n",
      "  from pandas._libs import (lib, index as libindex, tslib as libts,\n",
      "/home/rusty/anaconda3/lib/python2.7/site-packages/pandas/tseries/offsets.py:21: RuntimeWarning: numpy.dtype size changed, may indicate binary incompatibility. Expected 96, got 88\n",
      "  import pandas._libs.tslibs.offsets as liboffsets\n",
      "/home/rusty/anaconda3/lib/python2.7/site-packages/pandas/core/ops.py:16: RuntimeWarning: numpy.dtype size changed, may indicate binary incompatibility. Expected 96, got 88\n",
      "  from pandas._libs import algos as libalgos, ops as libops\n",
      "/home/rusty/anaconda3/lib/python2.7/site-packages/pandas/core/indexes/interval.py:32: RuntimeWarning: numpy.dtype size changed, may indicate binary incompatibility. Expected 96, got 88\n",
      "  from pandas._libs.interval import (\n",
      "/home/rusty/anaconda3/lib/python2.7/site-packages/pandas/core/internals.py:14: RuntimeWarning: numpy.dtype size changed, may indicate binary incompatibility. Expected 96, got 88\n",
      "  from pandas._libs import internals as libinternals\n",
      "/home/rusty/anaconda3/lib/python2.7/site-packages/pandas/core/sparse/array.py:33: RuntimeWarning: numpy.dtype size changed, may indicate binary incompatibility. Expected 96, got 88\n",
      "  import pandas._libs.sparse as splib\n",
      "/home/rusty/anaconda3/lib/python2.7/site-packages/pandas/core/window.py:36: RuntimeWarning: numpy.dtype size changed, may indicate binary incompatibility. Expected 96, got 88\n",
      "  import pandas._libs.window as _window\n",
      "/home/rusty/anaconda3/lib/python2.7/site-packages/pandas/core/groupby/groupby.py:68: RuntimeWarning: numpy.dtype size changed, may indicate binary incompatibility. Expected 96, got 88\n",
      "  from pandas._libs import (lib, reduction,\n",
      "/home/rusty/anaconda3/lib/python2.7/site-packages/pandas/core/reshape/reshape.py:30: RuntimeWarning: numpy.dtype size changed, may indicate binary incompatibility. Expected 96, got 88\n",
      "  from pandas._libs import algos as _algos, reshape as _reshape\n",
      "/home/rusty/anaconda3/lib/python2.7/site-packages/pandas/io/parsers.py:45: RuntimeWarning: numpy.dtype size changed, may indicate binary incompatibility. Expected 96, got 88\n",
      "  import pandas._libs.parsers as parsers\n",
      "/home/rusty/anaconda3/lib/python2.7/site-packages/pandas/io/pytables.py:50: RuntimeWarning: numpy.dtype size changed, may indicate binary incompatibility. Expected 96, got 88\n",
      "  from pandas._libs import algos, lib, writers as libwriters\n"
     ]
    }
   ],
   "source": [
    "from clean_encounterids import *\n",
    "from parse_ICNARC_xml import *"
   ]
  },
  {
   "cell_type": "code",
   "execution_count": 3,
   "metadata": {
    "collapsed": true
   },
   "outputs": [],
   "source": [
    "icnarc_numbers = clean_icnarc_cis_ids('../ICNARC 2015-2018 encounterIds and Readmissions.TXT', \n",
    "                                      '../Philips encounterId Issue List (New).xlsx',\n",
    "                                    verbose=VERBOSE)"
   ]
  },
  {
   "cell_type": "code",
   "execution_count": 4,
   "metadata": {
    "collapsed": true
   },
   "outputs": [],
   "source": [
    "philips_data = clean_philips_encounterids('../encounter_summary (1).rpt', \n",
    "                                  '../Philips encounterId Issue List (New).xlsx',\n",
    "                                  verbose=VERBOSE)"
   ]
  },
  {
   "cell_type": "code",
   "execution_count": 5,
   "metadata": {
    "collapsed": true
   },
   "outputs": [],
   "source": [
    "merged_data = join_icnarc_to_philips(philips_data, icnarc_numbers, verbose=VERBOSE)"
   ]
  },
  {
   "cell_type": "code",
   "execution_count": 6,
   "metadata": {
    "collapsed": true
   },
   "outputs": [],
   "source": [
    "merged_data = combine_non_unique_encounters(merged_data, combine='simple', verbose=VERBOSE)"
   ]
  },
  {
   "cell_type": "markdown",
   "metadata": {},
   "source": [
    "#### 'merged_data' now has a one-to-one mapping from ICNARC numbers to Philips encounterIds (CIS Patient ID). It also contains some summary data on each ITU episode that was extracted from Philips:"
   ]
  },
  {
   "cell_type": "code",
   "execution_count": 9,
   "metadata": {},
   "outputs": [
    {
     "name": "stdout",
     "output_type": "stream",
     "text": [
      "Index([u'CIS Patient ID', u'Readmission during this hospital stay',\n",
      "       u'ICNARC number', u'tNumber', u'encounterId_original', u'inTime',\n",
      "       u'outTime', u'lengthOfStay (mins)', u'gender', u'Unit ID',\n",
      "       u'CIS Patient ID Original', u'ptCensusId', u'CIS Episode ID', u'age'],\n",
      "      dtype='object')\n"
     ]
    }
   ],
   "source": [
    "print(merged_data.columns)"
   ]
  },
  {
   "cell_type": "code",
   "execution_count": 20,
   "metadata": {
    "collapsed": true
   },
   "outputs": [],
   "source": [
    "convert_minutes_to_days = lambda x: x/float(24*60)"
   ]
  },
  {
   "cell_type": "code",
   "execution_count": 24,
   "metadata": {},
   "outputs": [
    {
     "name": "stdout",
     "output_type": "stream",
     "text": [
      "50.0\n",
      "73.0\n",
      "8\n",
      "0.396808951513\n",
      "1.7300347222222223\n",
      "5.5671875\n"
     ]
    }
   ],
   "source": [
    "median_age = np.median(merged_data['age'].values)\n",
    "age_q25, age_q75 = np.percentile(merged_data['age'].values, [25,75])\n",
    "\n",
    "print age_q25\n",
    "print age_q75\n",
    "\n",
    "n_male = sum(merged_data['gender']=='Male')\n",
    "n_female = sum(merged_data['gender']=='Female')\n",
    "no_gender = len(merged_data['gender']) - (n_male + n_female)\n",
    "print no_gender\n",
    "print n_female / float(n_male + n_female)\n",
    "\n",
    "median_los = convert_minutes_to_days(np.median(merged_data['lengthOfStay (mins)'].values))\n",
    "los_q25, los_q75 = map(convert_minutes_to_days, np.percentile(merged_data['lengthOfStay (mins)'].values, [25,75]))\n",
    "\n",
    "print los_q25\n",
    "print los_q75"
   ]
  },
  {
   "cell_type": "markdown",
   "metadata": {},
   "source": [
    "#### We now parse the xml file"
   ]
  },
  {
   "cell_type": "code",
   "execution_count": 38,
   "metadata": {
    "collapsed": true
   },
   "outputs": [],
   "source": [
    "icnarc_data = parse_icnarc_xml(\"../ICNARC_Dataset_2015-2018__clean_.xml\",\n",
    "                               \"../ICNARC CMP Dataset Properties.xlsx\",\n",
    "                              verbose=VERBOSE)"
   ]
  },
  {
   "cell_type": "code",
   "execution_count": 28,
   "metadata": {},
   "outputs": [
    {
     "name": "stdout",
     "output_type": "stream",
     "text": [
      "5068\n",
      "4834\n"
     ]
    }
   ],
   "source": [
    "print(len(icnarc_data))\n",
    "print(len(merged_data))"
   ]
  },
  {
   "cell_type": "code",
   "execution_count": 29,
   "metadata": {},
   "outputs": [
    {
     "ename": "KeyError",
     "evalue": "'CIS Patient ID'",
     "output_type": "error",
     "traceback": [
      "\u001b[0;31m---------------------------------------------------------------------------\u001b[0m",
      "\u001b[0;31mKeyError\u001b[0m                                  Traceback (most recent call last)",
      "\u001b[0;32m<ipython-input-29-336d073a96dd>\u001b[0m in \u001b[0;36m<module>\u001b[0;34m()\u001b[0m\n\u001b[0;32m----> 1\u001b[0;31m \u001b[0micnarc_data\u001b[0m\u001b[0;34m.\u001b[0m\u001b[0mmerge\u001b[0m\u001b[0;34m(\u001b[0m\u001b[0mmerged_data\u001b[0m\u001b[0;34m,\u001b[0m \u001b[0mon\u001b[0m\u001b[0;34m=\u001b[0m\u001b[0;34m'CIS Patient ID'\u001b[0m\u001b[0;34m)\u001b[0m\u001b[0;34m\u001b[0m\u001b[0m\n\u001b[0m",
      "\u001b[0;32m/home/rusty/anaconda3/lib/python2.7/site-packages/pandas/core/frame.pyc\u001b[0m in \u001b[0;36mmerge\u001b[0;34m(self, right, how, on, left_on, right_on, left_index, right_index, sort, suffixes, copy, indicator, validate)\u001b[0m\n\u001b[1;32m   6387\u001b[0m                      \u001b[0mright_on\u001b[0m\u001b[0;34m=\u001b[0m\u001b[0mright_on\u001b[0m\u001b[0;34m,\u001b[0m \u001b[0mleft_index\u001b[0m\u001b[0;34m=\u001b[0m\u001b[0mleft_index\u001b[0m\u001b[0;34m,\u001b[0m\u001b[0;34m\u001b[0m\u001b[0m\n\u001b[1;32m   6388\u001b[0m                      \u001b[0mright_index\u001b[0m\u001b[0;34m=\u001b[0m\u001b[0mright_index\u001b[0m\u001b[0;34m,\u001b[0m \u001b[0msort\u001b[0m\u001b[0;34m=\u001b[0m\u001b[0msort\u001b[0m\u001b[0;34m,\u001b[0m \u001b[0msuffixes\u001b[0m\u001b[0;34m=\u001b[0m\u001b[0msuffixes\u001b[0m\u001b[0;34m,\u001b[0m\u001b[0;34m\u001b[0m\u001b[0m\n\u001b[0;32m-> 6389\u001b[0;31m                      copy=copy, indicator=indicator, validate=validate)\n\u001b[0m\u001b[1;32m   6390\u001b[0m \u001b[0;34m\u001b[0m\u001b[0m\n\u001b[1;32m   6391\u001b[0m     \u001b[0;32mdef\u001b[0m \u001b[0mround\u001b[0m\u001b[0;34m(\u001b[0m\u001b[0mself\u001b[0m\u001b[0;34m,\u001b[0m \u001b[0mdecimals\u001b[0m\u001b[0;34m=\u001b[0m\u001b[0;36m0\u001b[0m\u001b[0;34m,\u001b[0m \u001b[0;34m*\u001b[0m\u001b[0margs\u001b[0m\u001b[0;34m,\u001b[0m \u001b[0;34m**\u001b[0m\u001b[0mkwargs\u001b[0m\u001b[0;34m)\u001b[0m\u001b[0;34m:\u001b[0m\u001b[0;34m\u001b[0m\u001b[0m\n",
      "\u001b[0;32m/home/rusty/anaconda3/lib/python2.7/site-packages/pandas/core/reshape/merge.pyc\u001b[0m in \u001b[0;36mmerge\u001b[0;34m(left, right, how, on, left_on, right_on, left_index, right_index, sort, suffixes, copy, indicator, validate)\u001b[0m\n\u001b[1;32m     59\u001b[0m                          \u001b[0mright_index\u001b[0m\u001b[0;34m=\u001b[0m\u001b[0mright_index\u001b[0m\u001b[0;34m,\u001b[0m \u001b[0msort\u001b[0m\u001b[0;34m=\u001b[0m\u001b[0msort\u001b[0m\u001b[0;34m,\u001b[0m \u001b[0msuffixes\u001b[0m\u001b[0;34m=\u001b[0m\u001b[0msuffixes\u001b[0m\u001b[0;34m,\u001b[0m\u001b[0;34m\u001b[0m\u001b[0m\n\u001b[1;32m     60\u001b[0m                          \u001b[0mcopy\u001b[0m\u001b[0;34m=\u001b[0m\u001b[0mcopy\u001b[0m\u001b[0;34m,\u001b[0m \u001b[0mindicator\u001b[0m\u001b[0;34m=\u001b[0m\u001b[0mindicator\u001b[0m\u001b[0;34m,\u001b[0m\u001b[0;34m\u001b[0m\u001b[0m\n\u001b[0;32m---> 61\u001b[0;31m                          validate=validate)\n\u001b[0m\u001b[1;32m     62\u001b[0m     \u001b[0;32mreturn\u001b[0m \u001b[0mop\u001b[0m\u001b[0;34m.\u001b[0m\u001b[0mget_result\u001b[0m\u001b[0;34m(\u001b[0m\u001b[0;34m)\u001b[0m\u001b[0;34m\u001b[0m\u001b[0m\n\u001b[1;32m     63\u001b[0m \u001b[0;34m\u001b[0m\u001b[0m\n",
      "\u001b[0;32m/home/rusty/anaconda3/lib/python2.7/site-packages/pandas/core/reshape/merge.pyc\u001b[0m in \u001b[0;36m__init__\u001b[0;34m(self, left, right, how, on, left_on, right_on, axis, left_index, right_index, sort, suffixes, copy, indicator, validate)\u001b[0m\n\u001b[1;32m    549\u001b[0m         (self.left_join_keys,\n\u001b[1;32m    550\u001b[0m          \u001b[0mself\u001b[0m\u001b[0;34m.\u001b[0m\u001b[0mright_join_keys\u001b[0m\u001b[0;34m,\u001b[0m\u001b[0;34m\u001b[0m\u001b[0m\n\u001b[0;32m--> 551\u001b[0;31m          self.join_names) = self._get_merge_keys()\n\u001b[0m\u001b[1;32m    552\u001b[0m \u001b[0;34m\u001b[0m\u001b[0m\n\u001b[1;32m    553\u001b[0m         \u001b[0;31m# validate the merge keys dtypes. We may need to coerce\u001b[0m\u001b[0;34m\u001b[0m\u001b[0;34m\u001b[0m\u001b[0m\n",
      "\u001b[0;32m/home/rusty/anaconda3/lib/python2.7/site-packages/pandas/core/reshape/merge.pyc\u001b[0m in \u001b[0;36m_get_merge_keys\u001b[0;34m(self)\u001b[0m\n\u001b[1;32m    869\u001b[0m                     \u001b[0;32mif\u001b[0m \u001b[0mlk\u001b[0m \u001b[0;32mis\u001b[0m \u001b[0;32mnot\u001b[0m \u001b[0mNone\u001b[0m\u001b[0;34m:\u001b[0m\u001b[0;34m\u001b[0m\u001b[0m\n\u001b[1;32m    870\u001b[0m                         left_keys.append(left._get_label_or_level_values(\n\u001b[0;32m--> 871\u001b[0;31m                             lk, stacklevel=stacklevel))\n\u001b[0m\u001b[1;32m    872\u001b[0m                         \u001b[0mjoin_names\u001b[0m\u001b[0;34m.\u001b[0m\u001b[0mappend\u001b[0m\u001b[0;34m(\u001b[0m\u001b[0mlk\u001b[0m\u001b[0;34m)\u001b[0m\u001b[0;34m\u001b[0m\u001b[0m\n\u001b[1;32m    873\u001b[0m                     \u001b[0;32melse\u001b[0m\u001b[0;34m:\u001b[0m\u001b[0;34m\u001b[0m\u001b[0m\n",
      "\u001b[0;32m/home/rusty/anaconda3/lib/python2.7/site-packages/pandas/core/generic.pyc\u001b[0m in \u001b[0;36m_get_label_or_level_values\u001b[0;34m(self, key, axis, stacklevel)\u001b[0m\n\u001b[1;32m   1380\u001b[0m             \u001b[0mvalues\u001b[0m \u001b[0;34m=\u001b[0m \u001b[0mself\u001b[0m\u001b[0;34m.\u001b[0m\u001b[0maxes\u001b[0m\u001b[0;34m[\u001b[0m\u001b[0maxis\u001b[0m\u001b[0;34m]\u001b[0m\u001b[0;34m.\u001b[0m\u001b[0mget_level_values\u001b[0m\u001b[0;34m(\u001b[0m\u001b[0mkey\u001b[0m\u001b[0;34m)\u001b[0m\u001b[0;34m.\u001b[0m\u001b[0m_values\u001b[0m\u001b[0;34m\u001b[0m\u001b[0m\n\u001b[1;32m   1381\u001b[0m         \u001b[0;32melse\u001b[0m\u001b[0;34m:\u001b[0m\u001b[0;34m\u001b[0m\u001b[0m\n\u001b[0;32m-> 1382\u001b[0;31m             \u001b[0;32mraise\u001b[0m \u001b[0mKeyError\u001b[0m\u001b[0;34m(\u001b[0m\u001b[0mkey\u001b[0m\u001b[0;34m)\u001b[0m\u001b[0;34m\u001b[0m\u001b[0m\n\u001b[0m\u001b[1;32m   1383\u001b[0m \u001b[0;34m\u001b[0m\u001b[0m\n\u001b[1;32m   1384\u001b[0m         \u001b[0;31m# Check for duplicates\u001b[0m\u001b[0;34m\u001b[0m\u001b[0;34m\u001b[0m\u001b[0m\n",
      "\u001b[0;31mKeyError\u001b[0m: 'CIS Patient ID'"
     ]
    }
   ],
   "source": [
    "icnarc_data.merge(merged_data, on='CIS Patient ID')"
   ]
  },
  {
   "cell_type": "code",
   "execution_count": 30,
   "metadata": {},
   "outputs": [
    {
     "name": "stdout",
     "output_type": "stream",
     "text": [
      "Assisted conception used for recent pregnancy\n",
      "Advanced cardiovascular support days\n",
      "ICNARC Number\n",
      "HIV/AIDS\n",
      "Acute myelogenous/lymphocytic leukaemia or multiple myeloma\n",
      "Antimicrobial use after 48 hours in your unit\n",
      "Associated neutrophil count highest WBC\n",
      "Associated neutrophil count lowest WBC\n",
      "Associated neutrophil count pre-admit WBC\n",
      "Advanced respiratory support days\n",
      "Assent for solid organ or tissue donation\n",
      "Basic cardiovascular support days\n",
      "Biopsy proven cirrhosis\n",
      "Basic respiratory support days\n",
      "Burned surface area\n",
      "Brainstem death declared\n",
      "Critical care visit prior to this admission to your unit\n",
      "Critical care visit post-discharge from your unit\n",
      "Level 0 days\n",
      "Level 1 days\n",
      "Level 2 days\n",
      "Level 3 days\n",
      "Clostridium difficile present\n",
      "Chemotherapy\n",
      "Congenital immunohumoral or cellular immune deficiency state\n",
      "Classification of surgery\n",
      "Chronic myelogenous/lymphocytic leukaemia\n",
      "Cardiopulmonary resuscitation (CPR) within 24 hours prior to admission to your unit\n",
      "Admission currently/recently pregnant\n",
      "Chronic renal replacement therapy\n",
      "Actual date of delivery of recent pregnancy\n",
      "Date of admission to your hospital\n",
      "Date of admission to your unit\n",
      "Date body removed from your unit\n",
      "Date of declaration of brainstem death\n",
      "Date of discharge from your hospital\n",
      "Date of discharge from your unit\n",
      "Expected date of delivery of current pregnancy\n",
      "Dependency prior to admission to acute hospital\n",
      "Destination postdischarge from your hospital\n",
      "Date of first critical care visit postdischarge from your unit\n",
      "Delayed admission (HRS)\n",
      "Status at discharge from your unit\n",
      "Date of last critical care visit prior to this admission to your unit\n",
      "Date of original admission to/attendance at acute hospital\n",
      "Date of original admission to ICU/HDU\n",
      "Date of Birth\n",
      "Date of birth estimated\n",
      "Date of death\n",
      "Dermatological support days\n",
      "Date treatment first withdrawn\n",
      "Date of ultimate discharge from hospital\n",
      "Date of ultimate discharge from ICU/HDU\n",
      "Date when fully ready to discharge\n",
      "Expected dependency postacute hospital discharge\n",
      "Evidence available to abstract physiology data\n",
      "Evidence available to assess past medical history\n",
      "Ethnicity\n",
      "Associated eye component\n",
      "Associated FiO2\n",
      "Gestation of current pregnancy\n",
      "Gestation at delivery of recent pregnancy\n",
      "Gastrointestinal support days\n",
      "Highest blood lactate\n",
      "Height in cm\n",
      "Height in cm Estimated\n",
      "Highest serum creatinine\n",
      "Highest central temperature\n",
      "Status at discharge from your hospital\n",
      "Hepatic encephalopathy\n",
      "Highest serum glucose\n",
      "Highest haemoglobin\n",
      "Highest serum bicarbonate\n",
      "Highest heart rate\n",
      "Highest serum potassium\n",
      "Hospital housing nontransient location (in)\n",
      "Hospital housing location (out)\n",
      "Highest serum sodium\n",
      "Highest non-central temperature\n",
      "Highest non-ventilated respiratory rate\n",
      "Highest systolic BP\n",
      "Hospital housing transient location (in)\n",
      "Highest serum urea\n",
      "Home ventilation\n",
      "Highest ventilated respiratory rate\n",
      "Highest white blood cell count\n",
      "Hysterectomy at/since delivery of recent pregnancy\n",
      "ICNARC CMP Number\n",
      "PaO2 from arterial blood gas with lowest PaO2\n",
      "Inhalation injury\n",
      "Associated intubation status\n",
      "Treatment withheld/withdrawn\n",
      "Lowest serum creatinine\n",
      "Lowest central temperature\n",
      "Highest level of care received in the first 24 hours in your unit\n",
      "Level of care received at discharge from your unit\n",
      "Lowest serum glucose\n",
      "Lowest haemoglobin\n",
      "Lowest serum bicarbonate\n",
      "Lowest heart rate\n",
      "Lowest serum potassium\n",
      "Lowest serum sodium\n",
      "Lowest non-central temperature\n",
      "Lowest non-ventilated respiratory rate\n",
      "Location (in)\n",
      "Location (out)\n",
      "Lowest platelet count\n",
      "pH/H+ from arterial blood gas with lowest pH (or highest H+)\n",
      "Pupil reactivity (left eye)\n",
      "Liver support days\n",
      "Lowest systolic BP\n",
      "Lowest total Glasgow Coma Score\n",
      "Lowest ventilated respiratory rate\n",
      "Lowest white blood cell count\n",
      "Lymphoma\n",
      "Arterial blood gases missing\n",
      "Blood lactate missing\n",
      "Serum creatinine missing\n",
      "Metastatic disease\n",
      "Serum glucose missing\n",
      "Haemoglobin missing\n",
      "Serum bicarbonate missing\n",
      "Serum potassium missing\n",
      "Serum sodium missing\n",
      "Molar pregnancy associated with recent pregnancy\n",
      "Associated motor component\n",
      "Main organism causing first unit-acquired infection in blood\n",
      "Platelet count missing\n",
      "Pupil reactivity missing\n",
      "MRSA present\n",
      "Serum urea missing\n",
      "Urine output missing\n",
      "White blood cell count missing\n",
      "Neurological status\n",
      "NHS Number\n",
      "Number of babies in NICU following recent pregnancy\n",
      "Number of live births (babies)\n",
      "Number of previous Caesarean sections excluding most recent pregnancy\n",
      "Number of live births (babies) and/or stillbirths from previous pregnancies \n",
      "Number of stillbirths\n",
      "Neurological support days\n",
      "Number of unit-acquired infections present in blood\n",
      "Solid organ or tissue donor\n",
      "Outcome of recent pregnancy\n",
      "Admission Type\n",
      "Pre-admission blood lactate\n",
      "Associated PaCO2\n",
      "Associated PaCO2 from arterial blood gas with lowest Ph (or highest H+)\n",
      "Pre-admission serum creatinine\n",
      "Paired diastolic BP for highest systolic BP\n",
      "Paired diastolic BP for lowest systolic BP\n",
      "Pre-admission serum glucose\n",
      "Portal hypertension\n",
      "Pre-admission haemoglobin\n",
      "Pre-admission serum bicarbonate\n",
      "Associated pH/H+\n",
      "Pre-admission serum potassium\n",
      "Prior location (in)\n",
      "Past medical history of one or more of listed conditions\n",
      "Pre-admission serum sodium\n",
      "Pre-admission platelet count\n",
      "Admission for pre-surgical preparation\n",
      "Pre-admission serum urea\n",
      "Pre-admission white blood cell count\n",
      "Radiotherapy\n",
      "Primary reason for admission to your unit\n",
      "Secondary reason for admission to your unit\n",
      "Reason for discharge from your unit\n",
      "Referred to transplant co-ordinator for solid organ or tissue donation\n",
      "Residence prior to admission to acute hospital\n",
      "Residence postdischarge from acute hospital\n",
      "Pupil reactivity (right eye)\n",
      "Renal support days\n",
      "Specialty code prior to admission to your unit\n",
      "Sedated or paralysed and sedated for whole of first 24 hours in your unit\n",
      "Sex\n",
      "Sector of other hospital (in)\n",
      "Sector of other hospital (out)\n",
      "Severe respiratory disease\n",
      "Steroid treatment\n",
      "Time of admission to your unit\n",
      "Time body removed from your unit\n",
      "Time of declaration of brainstem death\n",
      "Time of discharge from your unit\n",
      "Adult ICU/HDU within your critical care transfer group (in)\n",
      "Adult ICU/HDU within your critical care transfer group (out)\n",
      "Timeliness of admission to your unit\n",
      "Timeliness of discharge from your unit\n",
      "Time of death\n",
      "Time treatment first withdrawn\n",
      "Transferring unit admission number\n",
      "Transferring unit identifier (in)\n",
      "Transferring unit identifier (out)\n",
      "Time when fully ready to discharge\n",
      "Type of adult ICU/HDU (in)\n",
      "Type of adult ICU/HDU (out)\n",
      "Status at ultimate discharge from ICU/HDU\n",
      "Status at ultimate discharge from hospital\n",
      "Urine output\n",
      "Ultimate primary reason for admission to your unit\n",
      "Associated verbal component\n",
      "VRE present\n",
      "Very severe cardiovascular disease\n",
      "Weight in kg\n",
      "Weight in kg estimated\n"
     ]
    }
   ],
   "source": [
    "for col in icnarc_data.columns:\n",
    "    print(col)"
   ]
  },
  {
   "cell_type": "markdown",
   "metadata": {},
   "source": [
    "#### We now join on ICNARC number and looks at some of the important columns.\n",
    "\n",
    "In particular:\n",
    "* do the LOS number match?\n",
    "* do ages match?"
   ]
  },
  {
   "cell_type": "code",
   "execution_count": 37,
   "metadata": {},
   "outputs": [
    {
     "data": {
      "text/plain": [
       "0       1\n",
       "1       1\n",
       "2       1\n",
       "3       1\n",
       "4       1\n",
       "5       1\n",
       "6       1\n",
       "7       1\n",
       "8       1\n",
       "9       1\n",
       "10      1\n",
       "11      1\n",
       "12      1\n",
       "13      1\n",
       "14      1\n",
       "15      1\n",
       "16      1\n",
       "17      1\n",
       "18      1\n",
       "19      1\n",
       "20      1\n",
       "21      1\n",
       "22      1\n",
       "23      1\n",
       "24      1\n",
       "25      1\n",
       "26      1\n",
       "27      1\n",
       "28      1\n",
       "29      1\n",
       "       ..\n",
       "4804    1\n",
       "4805    1\n",
       "4806    1\n",
       "4807    1\n",
       "4808    1\n",
       "4809    1\n",
       "4810    1\n",
       "4811    1\n",
       "4812    1\n",
       "4813    1\n",
       "4814    1\n",
       "4815    1\n",
       "4816    1\n",
       "4817    1\n",
       "4818    1\n",
       "4819    1\n",
       "4820    1\n",
       "4821    1\n",
       "4822    1\n",
       "4823    1\n",
       "4824    1\n",
       "4825    1\n",
       "4826    1\n",
       "4827    1\n",
       "4828    1\n",
       "4829    1\n",
       "4830    1\n",
       "4831    1\n",
       "4832    1\n",
       "4833    1\n",
       "Name: Unit ID, Length: 4834, dtype: int64"
      ]
     },
     "execution_count": 37,
     "metadata": {},
     "output_type": "execute_result"
    }
   ],
   "source": [
    "merged_data['Unit ID']\n",
    "#icnarc_data['ICNARC CMP Number']\n",
    "#icnarc_data['ICNARC Number']\n",
    "#merged_data['ICNARC number']"
   ]
  },
  {
   "cell_type": "code",
   "execution_count": null,
   "metadata": {
    "collapsed": true
   },
   "outputs": [],
   "source": []
  },
  {
   "cell_type": "code",
   "execution_count": 12,
   "metadata": {
    "collapsed": true
   },
   "outputs": [],
   "source": []
  }
 ],
 "metadata": {
  "kernelspec": {
   "display_name": "Python 2",
   "language": "python",
   "name": "python2"
  },
  "language_info": {
   "codemirror_mode": {
    "name": "ipython",
    "version": 2
   },
   "file_extension": ".py",
   "mimetype": "text/x-python",
   "name": "python",
   "nbconvert_exporter": "python",
   "pygments_lexer": "ipython2",
   "version": "2.7.13"
  }
 },
 "nbformat": 4,
 "nbformat_minor": 2
}
