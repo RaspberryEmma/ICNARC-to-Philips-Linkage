{
 "cells": [
  {
   "cell_type": "markdown",
   "metadata": {},
   "source": [
    "### Merging data from WardWatcher (ICNARC) and Philips (ICCA).\n",
    "\n",
    "Here use the following files:\n",
    "\n",
    "* 'encounter_summary (1).rpt'  - a tab separated file with output from a simple SQL run on ICCA to extract basic information about patient encounters (ITU stays).\n",
    "\n",
    "* 'ICNARC 2015-2018 encounterIds and Readmissions.TXT' - a file containing ICNARC patient IDs and the corresponding 'CIS Patient ID', which link to encounterID in Philips.\n",
    "\n",
    "* 'Philips encounterId Issue List (New).xlsx' - a file documenting known issues with either encounterIds in Philips or CIS Patient IDs in WW. We clean up the IDs using this file before joining the two datasets.\n",
    "\n",
    "* 'ICNARC_Dataset_2015-2018__clean_.xml' - xml file containing output of ICNARC dataset\n",
    "\n",
    "* 'ICNARC CMP Dataset Properties.xlsx' - description of variables in the ICNARC dataset"
   ]
  },
  {
   "cell_type": "code",
   "execution_count": 1,
   "metadata": {
    "collapsed": true
   },
   "outputs": [],
   "source": [
    "VERBOSE = False ## For reasons of data protection we supress printing of results and data summaries."
   ]
  },
  {
   "cell_type": "code",
   "execution_count": 2,
   "metadata": {},
   "outputs": [
    {
     "name": "stderr",
     "output_type": "stream",
     "text": [
      "/home/rusty/anaconda3/lib/python2.7/site-packages/pandas/_libs/__init__.py:4: RuntimeWarning: numpy.dtype size changed, may indicate binary incompatibility. Expected 96, got 88\n",
      "  from .tslib import iNaT, NaT, Timestamp, Timedelta, OutOfBoundsDatetime\n",
      "/home/rusty/anaconda3/lib/python2.7/site-packages/pandas/__init__.py:26: RuntimeWarning: numpy.dtype size changed, may indicate binary incompatibility. Expected 96, got 88\n",
      "  from pandas._libs import (hashtable as _hashtable,\n",
      "/home/rusty/anaconda3/lib/python2.7/site-packages/pandas/core/dtypes/common.py:6: RuntimeWarning: numpy.dtype size changed, may indicate binary incompatibility. Expected 96, got 88\n",
      "  from pandas._libs import algos, lib\n",
      "/home/rusty/anaconda3/lib/python2.7/site-packages/pandas/core/util/hashing.py:7: RuntimeWarning: numpy.dtype size changed, may indicate binary incompatibility. Expected 96, got 88\n",
      "  from pandas._libs import hashing, tslib\n",
      "/home/rusty/anaconda3/lib/python2.7/site-packages/pandas/core/indexes/base.py:7: RuntimeWarning: numpy.dtype size changed, may indicate binary incompatibility. Expected 96, got 88\n",
      "  from pandas._libs import (lib, index as libindex, tslib as libts,\n",
      "/home/rusty/anaconda3/lib/python2.7/site-packages/pandas/tseries/offsets.py:21: RuntimeWarning: numpy.dtype size changed, may indicate binary incompatibility. Expected 96, got 88\n",
      "  import pandas._libs.tslibs.offsets as liboffsets\n",
      "/home/rusty/anaconda3/lib/python2.7/site-packages/pandas/core/ops.py:16: RuntimeWarning: numpy.dtype size changed, may indicate binary incompatibility. Expected 96, got 88\n",
      "  from pandas._libs import algos as libalgos, ops as libops\n",
      "/home/rusty/anaconda3/lib/python2.7/site-packages/pandas/core/indexes/interval.py:32: RuntimeWarning: numpy.dtype size changed, may indicate binary incompatibility. Expected 96, got 88\n",
      "  from pandas._libs.interval import (\n",
      "/home/rusty/anaconda3/lib/python2.7/site-packages/pandas/core/internals.py:14: RuntimeWarning: numpy.dtype size changed, may indicate binary incompatibility. Expected 96, got 88\n",
      "  from pandas._libs import internals as libinternals\n",
      "/home/rusty/anaconda3/lib/python2.7/site-packages/pandas/core/sparse/array.py:33: RuntimeWarning: numpy.dtype size changed, may indicate binary incompatibility. Expected 96, got 88\n",
      "  import pandas._libs.sparse as splib\n",
      "/home/rusty/anaconda3/lib/python2.7/site-packages/pandas/core/window.py:36: RuntimeWarning: numpy.dtype size changed, may indicate binary incompatibility. Expected 96, got 88\n",
      "  import pandas._libs.window as _window\n",
      "/home/rusty/anaconda3/lib/python2.7/site-packages/pandas/core/groupby/groupby.py:68: RuntimeWarning: numpy.dtype size changed, may indicate binary incompatibility. Expected 96, got 88\n",
      "  from pandas._libs import (lib, reduction,\n",
      "/home/rusty/anaconda3/lib/python2.7/site-packages/pandas/core/reshape/reshape.py:30: RuntimeWarning: numpy.dtype size changed, may indicate binary incompatibility. Expected 96, got 88\n",
      "  from pandas._libs import algos as _algos, reshape as _reshape\n",
      "/home/rusty/anaconda3/lib/python2.7/site-packages/pandas/io/parsers.py:45: RuntimeWarning: numpy.dtype size changed, may indicate binary incompatibility. Expected 96, got 88\n",
      "  import pandas._libs.parsers as parsers\n",
      "/home/rusty/anaconda3/lib/python2.7/site-packages/pandas/io/pytables.py:50: RuntimeWarning: numpy.dtype size changed, may indicate binary incompatibility. Expected 96, got 88\n",
      "  from pandas._libs import algos, lib, writers as libwriters\n"
     ]
    }
   ],
   "source": [
    "from clean_encounterids import *"
   ]
  },
  {
   "cell_type": "code",
   "execution_count": 3,
   "metadata": {},
   "outputs": [],
   "source": [
    "icnarc_numbers = clean_icnarc_cis_ids('../ICNARC 2015-2018 encounterIds and Readmissions.TXT', \n",
    "                                      '../Philips encounterId Issue List (New).xlsx',\n",
    "                                    verbose=VERBOSE)"
   ]
  },
  {
   "cell_type": "code",
   "execution_count": 4,
   "metadata": {
    "collapsed": true
   },
   "outputs": [],
   "source": [
    "philips_data = clean_philips_encounterids('../encounter_summary (1).rpt', \n",
    "                                  '../Philips encounterId Issue List (New).xlsx',\n",
    "                                  verbose=VERBOSE)"
   ]
  },
  {
   "cell_type": "code",
   "execution_count": 5,
   "metadata": {
    "collapsed": true
   },
   "outputs": [],
   "source": [
    "merged_data = join_icnarc_to_philips(philips_data, icnarc_numbers, verbose=VERBOSE)"
   ]
  },
  {
   "cell_type": "code",
   "execution_count": 7,
   "metadata": {},
   "outputs": [
    {
     "name": "stdout",
     "output_type": "stream",
     "text": [
      "('\\n', Index([u'CIS Patient ID_', u'Readmission during this hospital stay_first',\n",
      "       u'ICNARC number_count', u'ICNARC number_list', u'tNumber_first',\n",
      "       u'encounterId_original_count', u'encounterId_original_list',\n",
      "       u'inTime_min', u'outTime_max', u'lengthOfStay (mins)_sum',\n",
      "       u'gender_first', u'Unit ID_min', u'CIS Patient ID Original_count',\n",
      "       u'CIS Patient ID Original_list', u'ptCensusId_count',\n",
      "       u'ptCensusId_list', u'CIS Episode ID_count', u'CIS Episode ID_list',\n",
      "       u'age_min'],\n",
      "      dtype='object'))\n",
      "Empty DataFrame\n",
      "Columns: []\n",
      "Index: [0, 1, 2, 3, 4]\n"
     ]
    }
   ],
   "source": [
    "merged_data = combine_non_unique_encounters(merged_data)"
   ]
  },
  {
   "cell_type": "code",
   "execution_count": 13,
   "metadata": {},
   "outputs": [
    {
     "data": {
      "text/plain": [
       "60.50744724865536"
      ]
     },
     "execution_count": 13,
     "metadata": {},
     "output_type": "execute_result"
    }
   ],
   "source": [
    "merged_data['age_min'].values.mean()"
   ]
  },
  {
   "cell_type": "code",
   "execution_count": 15,
   "metadata": {},
   "outputs": [
    {
     "data": {
      "text/plain": [
       "0          Male\n",
       "1          Male\n",
       "2        Female\n",
       "3        Female\n",
       "4        Female\n",
       "5          Male\n",
       "6        Female\n",
       "7        Female\n",
       "8        Female\n",
       "9          Male\n",
       "10       Female\n",
       "11          NaN\n",
       "12       Female\n",
       "13         Male\n",
       "14         Male\n",
       "15       Female\n",
       "16         Male\n",
       "17         Male\n",
       "18         Male\n",
       "19       Female\n",
       "20         Male\n",
       "21          NaN\n",
       "22         Male\n",
       "23       Female\n",
       "24       Female\n",
       "25       Female\n",
       "26       Female\n",
       "27       Female\n",
       "28         Male\n",
       "29         Male\n",
       "         ...   \n",
       "4804       Male\n",
       "4805       Male\n",
       "4806       Male\n",
       "4807     Female\n",
       "4808       Male\n",
       "4809     Female\n",
       "4810       Male\n",
       "4811       Male\n",
       "4812       Male\n",
       "4813       Male\n",
       "4814       Male\n",
       "4815       Male\n",
       "4816     Female\n",
       "4817     Female\n",
       "4818     Female\n",
       "4819       Male\n",
       "4820       Male\n",
       "4821       Male\n",
       "4822       Male\n",
       "4823     Female\n",
       "4824       Male\n",
       "4825     Female\n",
       "4826     Female\n",
       "4827       Male\n",
       "4828       Male\n",
       "4829       Male\n",
       "4830       Male\n",
       "4831       Male\n",
       "4832     Female\n",
       "4833    Unknown\n",
       "Name: gender_first, Length: 4834, dtype: object"
      ]
     },
     "execution_count": 15,
     "metadata": {},
     "output_type": "execute_result"
    }
   ],
   "source": [
    "print sum(merged_data['gender_first']=='Male')\n",
    "print sum(merged_data['gender_first']=='Feale')\n",
    "print len(merged_data['gender_first'])"
   ]
  },
  {
   "cell_type": "code",
   "execution_count": null,
   "metadata": {
    "collapsed": true
   },
   "outputs": [],
   "source": []
  }
 ],
 "metadata": {
  "kernelspec": {
   "display_name": "Python 2",
   "language": "python",
   "name": "python2"
  },
  "language_info": {
   "codemirror_mode": {
    "name": "ipython",
    "version": 2
   },
   "file_extension": ".py",
   "mimetype": "text/x-python",
   "name": "python",
   "nbconvert_exporter": "python",
   "pygments_lexer": "ipython2",
   "version": "2.7.13"
  }
 },
 "nbformat": 4,
 "nbformat_minor": 2
}
